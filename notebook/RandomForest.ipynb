{
 "cells": [
  {
   "cell_type": "code",
   "execution_count": 6,
   "id": "a318dff6-adde-491d-bcaf-b5f0b75e2d29",
   "metadata": {},
   "outputs": [],
   "source": [
    "# ===============================================\n",
    "# STEP 0 — Imports, config, and speed knobs\n",
    "# ===============================================\n",
    "import warnings, time, numpy as np, pandas as pd\n",
    "\n",
    "from sklearn.model_selection import train_test_split, StratifiedKFold, RandomizedSearchCV\n",
    "from sklearn.pipeline import Pipeline as SkPipeline\n",
    "from sklearn.compose import ColumnTransformer\n",
    "from sklearn.preprocessing import OneHotEncoder, StandardScaler, FunctionTransformer\n",
    "from sklearn.impute import SimpleImputer\n",
    "from sklearn.linear_model import LogisticRegression\n",
    "from sklearn.ensemble import RandomForestClassifier\n",
    "from sklearn.metrics import (\n",
    "    accuracy_score, f1_score, roc_auc_score, confusion_matrix,\n",
    "    classification_report, precision_recall_curve\n",
    ")\n",
    "import joblib\n",
    "\n",
    "# ---- paths / label (EDIT as needed) ----\n",
    "CSV_PATH     = \"../data/processed/11_biz_merged_clean.csv\"\n",
    "PKL_PATH    = \"../data/processed/14_processed_df.pkl\"\n",
    "\n",
    "\n",
    "TARGET_COL   = \"avg_stars_2019\"\n",
    "POSITIVE_MIN = 4  # binarize: >= 4 stars => 1\n",
    "\n",
    "# ---- speed knobs ----\n",
    "CV_FOLDS             = 5\n",
    "EN_N_ITER            = 12\n",
    "RF_N_ITER            = 16\n",
    "SUBSAMPLE_FOR_TUNING = None   # e.g. 25000 to tune on subset, then refit on full; or None\n",
    "OHE_MIN_FREQ         = 20     # merge rare levels to reduce feature count\n",
    "SEARCH_N_JOBS        = -1\n",
    "VERBOSE              = 2\n",
    "\n",
    "warnings.filterwarnings(\"ignore\", message=\"Skipping features without any observed values\")"
   ]
  },
  {
   "cell_type": "code",
   "execution_count": 7,
   "id": "4c6876be-527d-488d-9d42-921ec19f273f",
   "metadata": {},
   "outputs": [
    {
     "name": "stdout",
     "output_type": "stream",
     "text": [
      "Loaded: (36261, 61)\n"
     ]
    }
   ],
   "source": [
    "# ===============================================\n",
    "# STEP 1 — Load data\n",
    "# ===============================================\n",
    "df = pd.read_csv(CSV_PATH)\n",
    "print(\"Loaded:\", df.shape)"
   ]
  },
  {
   "cell_type": "code",
   "execution_count": 8,
   "id": "bafd950e",
   "metadata": {},
   "outputs": [],
   "source": [
    "# Load the *fitted* ColumnTransformer you saved earlier\n",
    "preprocessor = joblib.load(PKL_PATH)"
   ]
  },
  {
   "cell_type": "code",
   "execution_count": 9,
   "id": "609bf1f6-e3ab-4a8d-bc9e-e46e02963c9b",
   "metadata": {},
   "outputs": [
    {
     "data": {
      "text/html": [
       "<style>#sk-container-id-2 {\n",
       "  /* Definition of color scheme common for light and dark mode */\n",
       "  --sklearn-color-text: #000;\n",
       "  --sklearn-color-text-muted: #666;\n",
       "  --sklearn-color-line: gray;\n",
       "  /* Definition of color scheme for unfitted estimators */\n",
       "  --sklearn-color-unfitted-level-0: #fff5e6;\n",
       "  --sklearn-color-unfitted-level-1: #f6e4d2;\n",
       "  --sklearn-color-unfitted-level-2: #ffe0b3;\n",
       "  --sklearn-color-unfitted-level-3: chocolate;\n",
       "  /* Definition of color scheme for fitted estimators */\n",
       "  --sklearn-color-fitted-level-0: #f0f8ff;\n",
       "  --sklearn-color-fitted-level-1: #d4ebff;\n",
       "  --sklearn-color-fitted-level-2: #b3dbfd;\n",
       "  --sklearn-color-fitted-level-3: cornflowerblue;\n",
       "\n",
       "  /* Specific color for light theme */\n",
       "  --sklearn-color-text-on-default-background: var(--sg-text-color, var(--theme-code-foreground, var(--jp-content-font-color1, black)));\n",
       "  --sklearn-color-background: var(--sg-background-color, var(--theme-background, var(--jp-layout-color0, white)));\n",
       "  --sklearn-color-border-box: var(--sg-text-color, var(--theme-code-foreground, var(--jp-content-font-color1, black)));\n",
       "  --sklearn-color-icon: #696969;\n",
       "\n",
       "  @media (prefers-color-scheme: dark) {\n",
       "    /* Redefinition of color scheme for dark theme */\n",
       "    --sklearn-color-text-on-default-background: var(--sg-text-color, var(--theme-code-foreground, var(--jp-content-font-color1, white)));\n",
       "    --sklearn-color-background: var(--sg-background-color, var(--theme-background, var(--jp-layout-color0, #111)));\n",
       "    --sklearn-color-border-box: var(--sg-text-color, var(--theme-code-foreground, var(--jp-content-font-color1, white)));\n",
       "    --sklearn-color-icon: #878787;\n",
       "  }\n",
       "}\n",
       "\n",
       "#sk-container-id-2 {\n",
       "  color: var(--sklearn-color-text);\n",
       "}\n",
       "\n",
       "#sk-container-id-2 pre {\n",
       "  padding: 0;\n",
       "}\n",
       "\n",
       "#sk-container-id-2 input.sk-hidden--visually {\n",
       "  border: 0;\n",
       "  clip: rect(1px 1px 1px 1px);\n",
       "  clip: rect(1px, 1px, 1px, 1px);\n",
       "  height: 1px;\n",
       "  margin: -1px;\n",
       "  overflow: hidden;\n",
       "  padding: 0;\n",
       "  position: absolute;\n",
       "  width: 1px;\n",
       "}\n",
       "\n",
       "#sk-container-id-2 div.sk-dashed-wrapped {\n",
       "  border: 1px dashed var(--sklearn-color-line);\n",
       "  margin: 0 0.4em 0.5em 0.4em;\n",
       "  box-sizing: border-box;\n",
       "  padding-bottom: 0.4em;\n",
       "  background-color: var(--sklearn-color-background);\n",
       "}\n",
       "\n",
       "#sk-container-id-2 div.sk-container {\n",
       "  /* jupyter's `normalize.less` sets `[hidden] { display: none; }`\n",
       "     but bootstrap.min.css set `[hidden] { display: none !important; }`\n",
       "     so we also need the `!important` here to be able to override the\n",
       "     default hidden behavior on the sphinx rendered scikit-learn.org.\n",
       "     See: https://github.com/scikit-learn/scikit-learn/issues/21755 */\n",
       "  display: inline-block !important;\n",
       "  position: relative;\n",
       "}\n",
       "\n",
       "#sk-container-id-2 div.sk-text-repr-fallback {\n",
       "  display: none;\n",
       "}\n",
       "\n",
       "div.sk-parallel-item,\n",
       "div.sk-serial,\n",
       "div.sk-item {\n",
       "  /* draw centered vertical line to link estimators */\n",
       "  background-image: linear-gradient(var(--sklearn-color-text-on-default-background), var(--sklearn-color-text-on-default-background));\n",
       "  background-size: 2px 100%;\n",
       "  background-repeat: no-repeat;\n",
       "  background-position: center center;\n",
       "}\n",
       "\n",
       "/* Parallel-specific style estimator block */\n",
       "\n",
       "#sk-container-id-2 div.sk-parallel-item::after {\n",
       "  content: \"\";\n",
       "  width: 100%;\n",
       "  border-bottom: 2px solid var(--sklearn-color-text-on-default-background);\n",
       "  flex-grow: 1;\n",
       "}\n",
       "\n",
       "#sk-container-id-2 div.sk-parallel {\n",
       "  display: flex;\n",
       "  align-items: stretch;\n",
       "  justify-content: center;\n",
       "  background-color: var(--sklearn-color-background);\n",
       "  position: relative;\n",
       "}\n",
       "\n",
       "#sk-container-id-2 div.sk-parallel-item {\n",
       "  display: flex;\n",
       "  flex-direction: column;\n",
       "}\n",
       "\n",
       "#sk-container-id-2 div.sk-parallel-item:first-child::after {\n",
       "  align-self: flex-end;\n",
       "  width: 50%;\n",
       "}\n",
       "\n",
       "#sk-container-id-2 div.sk-parallel-item:last-child::after {\n",
       "  align-self: flex-start;\n",
       "  width: 50%;\n",
       "}\n",
       "\n",
       "#sk-container-id-2 div.sk-parallel-item:only-child::after {\n",
       "  width: 0;\n",
       "}\n",
       "\n",
       "/* Serial-specific style estimator block */\n",
       "\n",
       "#sk-container-id-2 div.sk-serial {\n",
       "  display: flex;\n",
       "  flex-direction: column;\n",
       "  align-items: center;\n",
       "  background-color: var(--sklearn-color-background);\n",
       "  padding-right: 1em;\n",
       "  padding-left: 1em;\n",
       "}\n",
       "\n",
       "\n",
       "/* Toggleable style: style used for estimator/Pipeline/ColumnTransformer box that is\n",
       "clickable and can be expanded/collapsed.\n",
       "- Pipeline and ColumnTransformer use this feature and define the default style\n",
       "- Estimators will overwrite some part of the style using the `sk-estimator` class\n",
       "*/\n",
       "\n",
       "/* Pipeline and ColumnTransformer style (default) */\n",
       "\n",
       "#sk-container-id-2 div.sk-toggleable {\n",
       "  /* Default theme specific background. It is overwritten whether we have a\n",
       "  specific estimator or a Pipeline/ColumnTransformer */\n",
       "  background-color: var(--sklearn-color-background);\n",
       "}\n",
       "\n",
       "/* Toggleable label */\n",
       "#sk-container-id-2 label.sk-toggleable__label {\n",
       "  cursor: pointer;\n",
       "  display: flex;\n",
       "  width: 100%;\n",
       "  margin-bottom: 0;\n",
       "  padding: 0.5em;\n",
       "  box-sizing: border-box;\n",
       "  text-align: center;\n",
       "  align-items: start;\n",
       "  justify-content: space-between;\n",
       "  gap: 0.5em;\n",
       "}\n",
       "\n",
       "#sk-container-id-2 label.sk-toggleable__label .caption {\n",
       "  font-size: 0.6rem;\n",
       "  font-weight: lighter;\n",
       "  color: var(--sklearn-color-text-muted);\n",
       "}\n",
       "\n",
       "#sk-container-id-2 label.sk-toggleable__label-arrow:before {\n",
       "  /* Arrow on the left of the label */\n",
       "  content: \"▸\";\n",
       "  float: left;\n",
       "  margin-right: 0.25em;\n",
       "  color: var(--sklearn-color-icon);\n",
       "}\n",
       "\n",
       "#sk-container-id-2 label.sk-toggleable__label-arrow:hover:before {\n",
       "  color: var(--sklearn-color-text);\n",
       "}\n",
       "\n",
       "/* Toggleable content - dropdown */\n",
       "\n",
       "#sk-container-id-2 div.sk-toggleable__content {\n",
       "  display: none;\n",
       "  text-align: left;\n",
       "  /* unfitted */\n",
       "  background-color: var(--sklearn-color-unfitted-level-0);\n",
       "}\n",
       "\n",
       "#sk-container-id-2 div.sk-toggleable__content.fitted {\n",
       "  /* fitted */\n",
       "  background-color: var(--sklearn-color-fitted-level-0);\n",
       "}\n",
       "\n",
       "#sk-container-id-2 div.sk-toggleable__content pre {\n",
       "  margin: 0.2em;\n",
       "  border-radius: 0.25em;\n",
       "  color: var(--sklearn-color-text);\n",
       "  /* unfitted */\n",
       "  background-color: var(--sklearn-color-unfitted-level-0);\n",
       "}\n",
       "\n",
       "#sk-container-id-2 div.sk-toggleable__content.fitted pre {\n",
       "  /* unfitted */\n",
       "  background-color: var(--sklearn-color-fitted-level-0);\n",
       "}\n",
       "\n",
       "#sk-container-id-2 input.sk-toggleable__control:checked~div.sk-toggleable__content {\n",
       "  /* Expand drop-down */\n",
       "  display: block;\n",
       "  width: 100%;\n",
       "  overflow: visible;\n",
       "}\n",
       "\n",
       "#sk-container-id-2 input.sk-toggleable__control:checked~label.sk-toggleable__label-arrow:before {\n",
       "  content: \"▾\";\n",
       "}\n",
       "\n",
       "/* Pipeline/ColumnTransformer-specific style */\n",
       "\n",
       "#sk-container-id-2 div.sk-label input.sk-toggleable__control:checked~label.sk-toggleable__label {\n",
       "  color: var(--sklearn-color-text);\n",
       "  background-color: var(--sklearn-color-unfitted-level-2);\n",
       "}\n",
       "\n",
       "#sk-container-id-2 div.sk-label.fitted input.sk-toggleable__control:checked~label.sk-toggleable__label {\n",
       "  background-color: var(--sklearn-color-fitted-level-2);\n",
       "}\n",
       "\n",
       "/* Estimator-specific style */\n",
       "\n",
       "/* Colorize estimator box */\n",
       "#sk-container-id-2 div.sk-estimator input.sk-toggleable__control:checked~label.sk-toggleable__label {\n",
       "  /* unfitted */\n",
       "  background-color: var(--sklearn-color-unfitted-level-2);\n",
       "}\n",
       "\n",
       "#sk-container-id-2 div.sk-estimator.fitted input.sk-toggleable__control:checked~label.sk-toggleable__label {\n",
       "  /* fitted */\n",
       "  background-color: var(--sklearn-color-fitted-level-2);\n",
       "}\n",
       "\n",
       "#sk-container-id-2 div.sk-label label.sk-toggleable__label,\n",
       "#sk-container-id-2 div.sk-label label {\n",
       "  /* The background is the default theme color */\n",
       "  color: var(--sklearn-color-text-on-default-background);\n",
       "}\n",
       "\n",
       "/* On hover, darken the color of the background */\n",
       "#sk-container-id-2 div.sk-label:hover label.sk-toggleable__label {\n",
       "  color: var(--sklearn-color-text);\n",
       "  background-color: var(--sklearn-color-unfitted-level-2);\n",
       "}\n",
       "\n",
       "/* Label box, darken color on hover, fitted */\n",
       "#sk-container-id-2 div.sk-label.fitted:hover label.sk-toggleable__label.fitted {\n",
       "  color: var(--sklearn-color-text);\n",
       "  background-color: var(--sklearn-color-fitted-level-2);\n",
       "}\n",
       "\n",
       "/* Estimator label */\n",
       "\n",
       "#sk-container-id-2 div.sk-label label {\n",
       "  font-family: monospace;\n",
       "  font-weight: bold;\n",
       "  display: inline-block;\n",
       "  line-height: 1.2em;\n",
       "}\n",
       "\n",
       "#sk-container-id-2 div.sk-label-container {\n",
       "  text-align: center;\n",
       "}\n",
       "\n",
       "/* Estimator-specific */\n",
       "#sk-container-id-2 div.sk-estimator {\n",
       "  font-family: monospace;\n",
       "  border: 1px dotted var(--sklearn-color-border-box);\n",
       "  border-radius: 0.25em;\n",
       "  box-sizing: border-box;\n",
       "  margin-bottom: 0.5em;\n",
       "  /* unfitted */\n",
       "  background-color: var(--sklearn-color-unfitted-level-0);\n",
       "}\n",
       "\n",
       "#sk-container-id-2 div.sk-estimator.fitted {\n",
       "  /* fitted */\n",
       "  background-color: var(--sklearn-color-fitted-level-0);\n",
       "}\n",
       "\n",
       "/* on hover */\n",
       "#sk-container-id-2 div.sk-estimator:hover {\n",
       "  /* unfitted */\n",
       "  background-color: var(--sklearn-color-unfitted-level-2);\n",
       "}\n",
       "\n",
       "#sk-container-id-2 div.sk-estimator.fitted:hover {\n",
       "  /* fitted */\n",
       "  background-color: var(--sklearn-color-fitted-level-2);\n",
       "}\n",
       "\n",
       "/* Specification for estimator info (e.g. \"i\" and \"?\") */\n",
       "\n",
       "/* Common style for \"i\" and \"?\" */\n",
       "\n",
       ".sk-estimator-doc-link,\n",
       "a:link.sk-estimator-doc-link,\n",
       "a:visited.sk-estimator-doc-link {\n",
       "  float: right;\n",
       "  font-size: smaller;\n",
       "  line-height: 1em;\n",
       "  font-family: monospace;\n",
       "  background-color: var(--sklearn-color-background);\n",
       "  border-radius: 1em;\n",
       "  height: 1em;\n",
       "  width: 1em;\n",
       "  text-decoration: none !important;\n",
       "  margin-left: 0.5em;\n",
       "  text-align: center;\n",
       "  /* unfitted */\n",
       "  border: var(--sklearn-color-unfitted-level-1) 1pt solid;\n",
       "  color: var(--sklearn-color-unfitted-level-1);\n",
       "}\n",
       "\n",
       ".sk-estimator-doc-link.fitted,\n",
       "a:link.sk-estimator-doc-link.fitted,\n",
       "a:visited.sk-estimator-doc-link.fitted {\n",
       "  /* fitted */\n",
       "  border: var(--sklearn-color-fitted-level-1) 1pt solid;\n",
       "  color: var(--sklearn-color-fitted-level-1);\n",
       "}\n",
       "\n",
       "/* On hover */\n",
       "div.sk-estimator:hover .sk-estimator-doc-link:hover,\n",
       ".sk-estimator-doc-link:hover,\n",
       "div.sk-label-container:hover .sk-estimator-doc-link:hover,\n",
       ".sk-estimator-doc-link:hover {\n",
       "  /* unfitted */\n",
       "  background-color: var(--sklearn-color-unfitted-level-3);\n",
       "  color: var(--sklearn-color-background);\n",
       "  text-decoration: none;\n",
       "}\n",
       "\n",
       "div.sk-estimator.fitted:hover .sk-estimator-doc-link.fitted:hover,\n",
       ".sk-estimator-doc-link.fitted:hover,\n",
       "div.sk-label-container:hover .sk-estimator-doc-link.fitted:hover,\n",
       ".sk-estimator-doc-link.fitted:hover {\n",
       "  /* fitted */\n",
       "  background-color: var(--sklearn-color-fitted-level-3);\n",
       "  color: var(--sklearn-color-background);\n",
       "  text-decoration: none;\n",
       "}\n",
       "\n",
       "/* Span, style for the box shown on hovering the info icon */\n",
       ".sk-estimator-doc-link span {\n",
       "  display: none;\n",
       "  z-index: 9999;\n",
       "  position: relative;\n",
       "  font-weight: normal;\n",
       "  right: .2ex;\n",
       "  padding: .5ex;\n",
       "  margin: .5ex;\n",
       "  width: min-content;\n",
       "  min-width: 20ex;\n",
       "  max-width: 50ex;\n",
       "  color: var(--sklearn-color-text);\n",
       "  box-shadow: 2pt 2pt 4pt #999;\n",
       "  /* unfitted */\n",
       "  background: var(--sklearn-color-unfitted-level-0);\n",
       "  border: .5pt solid var(--sklearn-color-unfitted-level-3);\n",
       "}\n",
       "\n",
       ".sk-estimator-doc-link.fitted span {\n",
       "  /* fitted */\n",
       "  background: var(--sklearn-color-fitted-level-0);\n",
       "  border: var(--sklearn-color-fitted-level-3);\n",
       "}\n",
       "\n",
       ".sk-estimator-doc-link:hover span {\n",
       "  display: block;\n",
       "}\n",
       "\n",
       "/* \"?\"-specific style due to the `<a>` HTML tag */\n",
       "\n",
       "#sk-container-id-2 a.estimator_doc_link {\n",
       "  float: right;\n",
       "  font-size: 1rem;\n",
       "  line-height: 1em;\n",
       "  font-family: monospace;\n",
       "  background-color: var(--sklearn-color-background);\n",
       "  border-radius: 1rem;\n",
       "  height: 1rem;\n",
       "  width: 1rem;\n",
       "  text-decoration: none;\n",
       "  /* unfitted */\n",
       "  color: var(--sklearn-color-unfitted-level-1);\n",
       "  border: var(--sklearn-color-unfitted-level-1) 1pt solid;\n",
       "}\n",
       "\n",
       "#sk-container-id-2 a.estimator_doc_link.fitted {\n",
       "  /* fitted */\n",
       "  border: var(--sklearn-color-fitted-level-1) 1pt solid;\n",
       "  color: var(--sklearn-color-fitted-level-1);\n",
       "}\n",
       "\n",
       "/* On hover */\n",
       "#sk-container-id-2 a.estimator_doc_link:hover {\n",
       "  /* unfitted */\n",
       "  background-color: var(--sklearn-color-unfitted-level-3);\n",
       "  color: var(--sklearn-color-background);\n",
       "  text-decoration: none;\n",
       "}\n",
       "\n",
       "#sk-container-id-2 a.estimator_doc_link.fitted:hover {\n",
       "  /* fitted */\n",
       "  background-color: var(--sklearn-color-fitted-level-3);\n",
       "}\n",
       "\n",
       ".estimator-table summary {\n",
       "    padding: .5rem;\n",
       "    font-family: monospace;\n",
       "    cursor: pointer;\n",
       "}\n",
       "\n",
       ".estimator-table details[open] {\n",
       "    padding-left: 0.1rem;\n",
       "    padding-right: 0.1rem;\n",
       "    padding-bottom: 0.3rem;\n",
       "}\n",
       "\n",
       ".estimator-table .parameters-table {\n",
       "    margin-left: auto !important;\n",
       "    margin-right: auto !important;\n",
       "}\n",
       "\n",
       ".estimator-table .parameters-table tr:nth-child(odd) {\n",
       "    background-color: #fff;\n",
       "}\n",
       "\n",
       ".estimator-table .parameters-table tr:nth-child(even) {\n",
       "    background-color: #f6f6f6;\n",
       "}\n",
       "\n",
       ".estimator-table .parameters-table tr:hover {\n",
       "    background-color: #e0e0e0;\n",
       "}\n",
       "\n",
       ".estimator-table table td {\n",
       "    border: 1px solid rgba(106, 105, 104, 0.232);\n",
       "}\n",
       "\n",
       ".user-set td {\n",
       "    color:rgb(255, 94, 0);\n",
       "    text-align: left;\n",
       "}\n",
       "\n",
       ".user-set td.value pre {\n",
       "    color:rgb(255, 94, 0) !important;\n",
       "    background-color: transparent !important;\n",
       "}\n",
       "\n",
       ".default td {\n",
       "    color: black;\n",
       "    text-align: left;\n",
       "}\n",
       "\n",
       ".user-set td i,\n",
       ".default td i {\n",
       "    color: black;\n",
       "}\n",
       "\n",
       ".copy-paste-icon {\n",
       "    background-image: url(data:image/svg+xml;base64,PHN2ZyB4bWxucz0iaHR0cDovL3d3dy53My5vcmcvMjAwMC9zdmciIHZpZXdCb3g9IjAgMCA0NDggNTEyIj48IS0tIUZvbnQgQXdlc29tZSBGcmVlIDYuNy4yIGJ5IEBmb250YXdlc29tZSAtIGh0dHBzOi8vZm9udGF3ZXNvbWUuY29tIExpY2Vuc2UgLSBodHRwczovL2ZvbnRhd2Vzb21lLmNvbS9saWNlbnNlL2ZyZWUgQ29weXJpZ2h0IDIwMjUgRm9udGljb25zLCBJbmMuLS0+PHBhdGggZD0iTTIwOCAwTDMzMi4xIDBjMTIuNyAwIDI0LjkgNS4xIDMzLjkgMTQuMWw2Ny45IDY3LjljOSA5IDE0LjEgMjEuMiAxNC4xIDMzLjlMNDQ4IDMzNmMwIDI2LjUtMjEuNSA0OC00OCA0OGwtMTkyIDBjLTI2LjUgMC00OC0yMS41LTQ4LTQ4bDAtMjg4YzAtMjYuNSAyMS41LTQ4IDQ4LTQ4ek00OCAxMjhsODAgMCAwIDY0LTY0IDAgMCAyNTYgMTkyIDAgMC0zMiA2NCAwIDAgNDhjMCAyNi41LTIxLjUgNDgtNDggNDhMNDggNTEyYy0yNi41IDAtNDgtMjEuNS00OC00OEwwIDE3NmMwLTI2LjUgMjEuNS00OCA0OC00OHoiLz48L3N2Zz4=);\n",
       "    background-repeat: no-repeat;\n",
       "    background-size: 14px 14px;\n",
       "    background-position: 0;\n",
       "    display: inline-block;\n",
       "    width: 14px;\n",
       "    height: 14px;\n",
       "    cursor: pointer;\n",
       "}\n",
       "</style><body><div id=\"sk-container-id-2\" class=\"sk-top-container\"><div class=\"sk-text-repr-fallback\"><pre>ColumnTransformer(transformers=[(&#x27;cont&#x27;,\n",
       "                                 Pipeline(steps=[(&#x27;imputer&#x27;,\n",
       "                                                  SimpleImputer(strategy=&#x27;median&#x27;)),\n",
       "                                                 (&#x27;scaler&#x27;, MinMaxScaler())]),\n",
       "                                 [&#x27;latitude&#x27;, &#x27;longitude&#x27;, &#x27;review_count_log1p&#x27;,\n",
       "                                  &#x27;rl_word_mean&#x27;, &#x27;rl_share_short24&#x27;,\n",
       "                                  &#x27;total_weekly_hours&#x27;, &#x27;days_open&#x27;,\n",
       "                                  &#x27;weekend_hours&#x27;, &#x27;avg_daily_hours&#x27;]),\n",
       "                                (&#x27;ord&#x27;,\n",
       "                                 Pipeline(steps=[(&#x27;encoder&#x27;,\n",
       "                                                  OrdinalEncoder(categories=[[1,\n",
       "                                                                              2,\n",
       "                                                                              3,\n",
       "                                                                              4],\n",
       "                                                                             [&#x27;...\n",
       "                                (&#x27;onehot_already&#x27;, &#x27;passthrough&#x27;,\n",
       "                                 [&#x27;cat__Sandwiches&#x27;,\n",
       "                                  &#x27;cat__American (Traditional)&#x27;, &#x27;cat__Pizza&#x27;,\n",
       "                                  &#x27;cat__Fast Food&#x27;, &#x27;cat__Breakfast &amp; Brunch&#x27;,\n",
       "                                  &#x27;cat__American (New)&#x27;, &#x27;cat__Burgers&#x27;,\n",
       "                                  &#x27;cat__Mexican&#x27;, &#x27;cat__Italian&#x27;,\n",
       "                                  &#x27;cat__Coffee &amp; Tea&#x27;, &#x27;cat__Seafood&#x27;,\n",
       "                                  &#x27;cat__Chinese&#x27;, &#x27;cat__Salad&#x27;,\n",
       "                                  &#x27;cat__Chicken Wings&#x27;, &#x27;cat__Cafes&#x27;,\n",
       "                                  &#x27;cat__Delis&#x27;, &#x27;cat__Caterers&#x27;,\n",
       "                                  &#x27;cat__Specialty Food&#x27;, &#x27;cat__Bakeries&#x27;,\n",
       "                                  &#x27;cat__Desserts&#x27;])])</pre><b>In a Jupyter environment, please rerun this cell to show the HTML representation or trust the notebook. <br />On GitHub, the HTML representation is unable to render, please try loading this page with nbviewer.org.</b></div><div class=\"sk-container\" hidden><div class=\"sk-item sk-dashed-wrapped\"><div class=\"sk-label-container\"><div class=\"sk-label fitted sk-toggleable\"><input class=\"sk-toggleable__control sk-hidden--visually\" id=\"sk-estimator-id-14\" type=\"checkbox\" ><label for=\"sk-estimator-id-14\" class=\"sk-toggleable__label fitted sk-toggleable__label-arrow\"><div><div>ColumnTransformer</div></div><div><a class=\"sk-estimator-doc-link fitted\" rel=\"noreferrer\" target=\"_blank\" href=\"https://scikit-learn.org/1.7/modules/generated/sklearn.compose.ColumnTransformer.html\">?<span>Documentation for ColumnTransformer</span></a><span class=\"sk-estimator-doc-link fitted\">i<span>Fitted</span></span></div></label><div class=\"sk-toggleable__content fitted\" data-param-prefix=\"\">\n",
       "        <div class=\"estimator-table\">\n",
       "            <details>\n",
       "                <summary>Parameters</summary>\n",
       "                <table class=\"parameters-table\">\n",
       "                  <tbody>\n",
       "                    \n",
       "        <tr class=\"user-set\">\n",
       "            <td><i class=\"copy-paste-icon\"\n",
       "                 onclick=\"copyToClipboard('transformers',\n",
       "                          this.parentElement.nextElementSibling)\"\n",
       "            ></i></td>\n",
       "            <td class=\"param\">transformers&nbsp;</td>\n",
       "            <td class=\"value\">[(&#x27;cont&#x27;, ...), (&#x27;ord&#x27;, ...), ...]</td>\n",
       "        </tr>\n",
       "    \n",
       "\n",
       "        <tr class=\"default\">\n",
       "            <td><i class=\"copy-paste-icon\"\n",
       "                 onclick=\"copyToClipboard('remainder',\n",
       "                          this.parentElement.nextElementSibling)\"\n",
       "            ></i></td>\n",
       "            <td class=\"param\">remainder&nbsp;</td>\n",
       "            <td class=\"value\">&#x27;drop&#x27;</td>\n",
       "        </tr>\n",
       "    \n",
       "\n",
       "        <tr class=\"default\">\n",
       "            <td><i class=\"copy-paste-icon\"\n",
       "                 onclick=\"copyToClipboard('sparse_threshold',\n",
       "                          this.parentElement.nextElementSibling)\"\n",
       "            ></i></td>\n",
       "            <td class=\"param\">sparse_threshold&nbsp;</td>\n",
       "            <td class=\"value\">0.3</td>\n",
       "        </tr>\n",
       "    \n",
       "\n",
       "        <tr class=\"default\">\n",
       "            <td><i class=\"copy-paste-icon\"\n",
       "                 onclick=\"copyToClipboard('n_jobs',\n",
       "                          this.parentElement.nextElementSibling)\"\n",
       "            ></i></td>\n",
       "            <td class=\"param\">n_jobs&nbsp;</td>\n",
       "            <td class=\"value\">None</td>\n",
       "        </tr>\n",
       "    \n",
       "\n",
       "        <tr class=\"default\">\n",
       "            <td><i class=\"copy-paste-icon\"\n",
       "                 onclick=\"copyToClipboard('transformer_weights',\n",
       "                          this.parentElement.nextElementSibling)\"\n",
       "            ></i></td>\n",
       "            <td class=\"param\">transformer_weights&nbsp;</td>\n",
       "            <td class=\"value\">None</td>\n",
       "        </tr>\n",
       "    \n",
       "\n",
       "        <tr class=\"default\">\n",
       "            <td><i class=\"copy-paste-icon\"\n",
       "                 onclick=\"copyToClipboard('verbose',\n",
       "                          this.parentElement.nextElementSibling)\"\n",
       "            ></i></td>\n",
       "            <td class=\"param\">verbose&nbsp;</td>\n",
       "            <td class=\"value\">False</td>\n",
       "        </tr>\n",
       "    \n",
       "\n",
       "        <tr class=\"default\">\n",
       "            <td><i class=\"copy-paste-icon\"\n",
       "                 onclick=\"copyToClipboard('verbose_feature_names_out',\n",
       "                          this.parentElement.nextElementSibling)\"\n",
       "            ></i></td>\n",
       "            <td class=\"param\">verbose_feature_names_out&nbsp;</td>\n",
       "            <td class=\"value\">True</td>\n",
       "        </tr>\n",
       "    \n",
       "\n",
       "        <tr class=\"default\">\n",
       "            <td><i class=\"copy-paste-icon\"\n",
       "                 onclick=\"copyToClipboard('force_int_remainder_cols',\n",
       "                          this.parentElement.nextElementSibling)\"\n",
       "            ></i></td>\n",
       "            <td class=\"param\">force_int_remainder_cols&nbsp;</td>\n",
       "            <td class=\"value\">&#x27;deprecated&#x27;</td>\n",
       "        </tr>\n",
       "    \n",
       "                  </tbody>\n",
       "                </table>\n",
       "            </details>\n",
       "        </div>\n",
       "    </div></div></div><div class=\"sk-parallel\"><div class=\"sk-parallel-item\"><div class=\"sk-item\"><div class=\"sk-label-container\"><div class=\"sk-label fitted sk-toggleable\"><input class=\"sk-toggleable__control sk-hidden--visually\" id=\"sk-estimator-id-15\" type=\"checkbox\" ><label for=\"sk-estimator-id-15\" class=\"sk-toggleable__label fitted sk-toggleable__label-arrow\"><div><div>cont</div></div></label><div class=\"sk-toggleable__content fitted\" data-param-prefix=\"cont__\"><pre>[&#x27;latitude&#x27;, &#x27;longitude&#x27;, &#x27;review_count_log1p&#x27;, &#x27;rl_word_mean&#x27;, &#x27;rl_share_short24&#x27;, &#x27;total_weekly_hours&#x27;, &#x27;days_open&#x27;, &#x27;weekend_hours&#x27;, &#x27;avg_daily_hours&#x27;]</pre></div></div></div><div class=\"sk-serial\"><div class=\"sk-item\"><div class=\"sk-serial\"><div class=\"sk-item\"><div class=\"sk-estimator fitted sk-toggleable\"><input class=\"sk-toggleable__control sk-hidden--visually\" id=\"sk-estimator-id-16\" type=\"checkbox\" ><label for=\"sk-estimator-id-16\" class=\"sk-toggleable__label fitted sk-toggleable__label-arrow\"><div><div>SimpleImputer</div></div><div><a class=\"sk-estimator-doc-link fitted\" rel=\"noreferrer\" target=\"_blank\" href=\"https://scikit-learn.org/1.7/modules/generated/sklearn.impute.SimpleImputer.html\">?<span>Documentation for SimpleImputer</span></a></div></label><div class=\"sk-toggleable__content fitted\" data-param-prefix=\"cont__imputer__\">\n",
       "        <div class=\"estimator-table\">\n",
       "            <details>\n",
       "                <summary>Parameters</summary>\n",
       "                <table class=\"parameters-table\">\n",
       "                  <tbody>\n",
       "                    \n",
       "        <tr class=\"default\">\n",
       "            <td><i class=\"copy-paste-icon\"\n",
       "                 onclick=\"copyToClipboard('missing_values',\n",
       "                          this.parentElement.nextElementSibling)\"\n",
       "            ></i></td>\n",
       "            <td class=\"param\">missing_values&nbsp;</td>\n",
       "            <td class=\"value\">nan</td>\n",
       "        </tr>\n",
       "    \n",
       "\n",
       "        <tr class=\"user-set\">\n",
       "            <td><i class=\"copy-paste-icon\"\n",
       "                 onclick=\"copyToClipboard('strategy',\n",
       "                          this.parentElement.nextElementSibling)\"\n",
       "            ></i></td>\n",
       "            <td class=\"param\">strategy&nbsp;</td>\n",
       "            <td class=\"value\">&#x27;median&#x27;</td>\n",
       "        </tr>\n",
       "    \n",
       "\n",
       "        <tr class=\"default\">\n",
       "            <td><i class=\"copy-paste-icon\"\n",
       "                 onclick=\"copyToClipboard('fill_value',\n",
       "                          this.parentElement.nextElementSibling)\"\n",
       "            ></i></td>\n",
       "            <td class=\"param\">fill_value&nbsp;</td>\n",
       "            <td class=\"value\">None</td>\n",
       "        </tr>\n",
       "    \n",
       "\n",
       "        <tr class=\"default\">\n",
       "            <td><i class=\"copy-paste-icon\"\n",
       "                 onclick=\"copyToClipboard('copy',\n",
       "                          this.parentElement.nextElementSibling)\"\n",
       "            ></i></td>\n",
       "            <td class=\"param\">copy&nbsp;</td>\n",
       "            <td class=\"value\">True</td>\n",
       "        </tr>\n",
       "    \n",
       "\n",
       "        <tr class=\"default\">\n",
       "            <td><i class=\"copy-paste-icon\"\n",
       "                 onclick=\"copyToClipboard('add_indicator',\n",
       "                          this.parentElement.nextElementSibling)\"\n",
       "            ></i></td>\n",
       "            <td class=\"param\">add_indicator&nbsp;</td>\n",
       "            <td class=\"value\">False</td>\n",
       "        </tr>\n",
       "    \n",
       "\n",
       "        <tr class=\"default\">\n",
       "            <td><i class=\"copy-paste-icon\"\n",
       "                 onclick=\"copyToClipboard('keep_empty_features',\n",
       "                          this.parentElement.nextElementSibling)\"\n",
       "            ></i></td>\n",
       "            <td class=\"param\">keep_empty_features&nbsp;</td>\n",
       "            <td class=\"value\">False</td>\n",
       "        </tr>\n",
       "    \n",
       "                  </tbody>\n",
       "                </table>\n",
       "            </details>\n",
       "        </div>\n",
       "    </div></div></div><div class=\"sk-item\"><div class=\"sk-estimator fitted sk-toggleable\"><input class=\"sk-toggleable__control sk-hidden--visually\" id=\"sk-estimator-id-17\" type=\"checkbox\" ><label for=\"sk-estimator-id-17\" class=\"sk-toggleable__label fitted sk-toggleable__label-arrow\"><div><div>MinMaxScaler</div></div><div><a class=\"sk-estimator-doc-link fitted\" rel=\"noreferrer\" target=\"_blank\" href=\"https://scikit-learn.org/1.7/modules/generated/sklearn.preprocessing.MinMaxScaler.html\">?<span>Documentation for MinMaxScaler</span></a></div></label><div class=\"sk-toggleable__content fitted\" data-param-prefix=\"cont__scaler__\">\n",
       "        <div class=\"estimator-table\">\n",
       "            <details>\n",
       "                <summary>Parameters</summary>\n",
       "                <table class=\"parameters-table\">\n",
       "                  <tbody>\n",
       "                    \n",
       "        <tr class=\"default\">\n",
       "            <td><i class=\"copy-paste-icon\"\n",
       "                 onclick=\"copyToClipboard('feature_range',\n",
       "                          this.parentElement.nextElementSibling)\"\n",
       "            ></i></td>\n",
       "            <td class=\"param\">feature_range&nbsp;</td>\n",
       "            <td class=\"value\">(0, ...)</td>\n",
       "        </tr>\n",
       "    \n",
       "\n",
       "        <tr class=\"default\">\n",
       "            <td><i class=\"copy-paste-icon\"\n",
       "                 onclick=\"copyToClipboard('copy',\n",
       "                          this.parentElement.nextElementSibling)\"\n",
       "            ></i></td>\n",
       "            <td class=\"param\">copy&nbsp;</td>\n",
       "            <td class=\"value\">True</td>\n",
       "        </tr>\n",
       "    \n",
       "\n",
       "        <tr class=\"default\">\n",
       "            <td><i class=\"copy-paste-icon\"\n",
       "                 onclick=\"copyToClipboard('clip',\n",
       "                          this.parentElement.nextElementSibling)\"\n",
       "            ></i></td>\n",
       "            <td class=\"param\">clip&nbsp;</td>\n",
       "            <td class=\"value\">False</td>\n",
       "        </tr>\n",
       "    \n",
       "                  </tbody>\n",
       "                </table>\n",
       "            </details>\n",
       "        </div>\n",
       "    </div></div></div></div></div></div></div></div><div class=\"sk-parallel-item\"><div class=\"sk-item\"><div class=\"sk-label-container\"><div class=\"sk-label fitted sk-toggleable\"><input class=\"sk-toggleable__control sk-hidden--visually\" id=\"sk-estimator-id-18\" type=\"checkbox\" ><label for=\"sk-estimator-id-18\" class=\"sk-toggleable__label fitted sk-toggleable__label-arrow\"><div><div>ord</div></div></label><div class=\"sk-toggleable__content fitted\" data-param-prefix=\"ord__\"><pre>[&#x27;attr_RestaurantsPriceRange2&#x27;, &#x27;attr_NoiseLevel&#x27;, &#x27;attr_RestaurantsAttire&#x27;]</pre></div></div></div><div class=\"sk-serial\"><div class=\"sk-item\"><div class=\"sk-serial\"><div class=\"sk-item\"><div class=\"sk-estimator fitted sk-toggleable\"><input class=\"sk-toggleable__control sk-hidden--visually\" id=\"sk-estimator-id-19\" type=\"checkbox\" ><label for=\"sk-estimator-id-19\" class=\"sk-toggleable__label fitted sk-toggleable__label-arrow\"><div><div>OrdinalEncoder</div></div><div><a class=\"sk-estimator-doc-link fitted\" rel=\"noreferrer\" target=\"_blank\" href=\"https://scikit-learn.org/1.7/modules/generated/sklearn.preprocessing.OrdinalEncoder.html\">?<span>Documentation for OrdinalEncoder</span></a></div></label><div class=\"sk-toggleable__content fitted\" data-param-prefix=\"ord__encoder__\">\n",
       "        <div class=\"estimator-table\">\n",
       "            <details>\n",
       "                <summary>Parameters</summary>\n",
       "                <table class=\"parameters-table\">\n",
       "                  <tbody>\n",
       "                    \n",
       "        <tr class=\"user-set\">\n",
       "            <td><i class=\"copy-paste-icon\"\n",
       "                 onclick=\"copyToClipboard('categories',\n",
       "                          this.parentElement.nextElementSibling)\"\n",
       "            ></i></td>\n",
       "            <td class=\"param\">categories&nbsp;</td>\n",
       "            <td class=\"value\">[[1, 2, ...], [&#x27;quiet&#x27;, &#x27;average&#x27;, ...], ...]</td>\n",
       "        </tr>\n",
       "    \n",
       "\n",
       "        <tr class=\"default\">\n",
       "            <td><i class=\"copy-paste-icon\"\n",
       "                 onclick=\"copyToClipboard('dtype',\n",
       "                          this.parentElement.nextElementSibling)\"\n",
       "            ></i></td>\n",
       "            <td class=\"param\">dtype&nbsp;</td>\n",
       "            <td class=\"value\">&lt;class &#x27;numpy.float64&#x27;&gt;</td>\n",
       "        </tr>\n",
       "    \n",
       "\n",
       "        <tr class=\"user-set\">\n",
       "            <td><i class=\"copy-paste-icon\"\n",
       "                 onclick=\"copyToClipboard('handle_unknown',\n",
       "                          this.parentElement.nextElementSibling)\"\n",
       "            ></i></td>\n",
       "            <td class=\"param\">handle_unknown&nbsp;</td>\n",
       "            <td class=\"value\">&#x27;use_encoded_value&#x27;</td>\n",
       "        </tr>\n",
       "    \n",
       "\n",
       "        <tr class=\"user-set\">\n",
       "            <td><i class=\"copy-paste-icon\"\n",
       "                 onclick=\"copyToClipboard('unknown_value',\n",
       "                          this.parentElement.nextElementSibling)\"\n",
       "            ></i></td>\n",
       "            <td class=\"param\">unknown_value&nbsp;</td>\n",
       "            <td class=\"value\">-1</td>\n",
       "        </tr>\n",
       "    \n",
       "\n",
       "        <tr class=\"user-set\">\n",
       "            <td><i class=\"copy-paste-icon\"\n",
       "                 onclick=\"copyToClipboard('encoded_missing_value',\n",
       "                          this.parentElement.nextElementSibling)\"\n",
       "            ></i></td>\n",
       "            <td class=\"param\">encoded_missing_value&nbsp;</td>\n",
       "            <td class=\"value\">-1</td>\n",
       "        </tr>\n",
       "    \n",
       "\n",
       "        <tr class=\"default\">\n",
       "            <td><i class=\"copy-paste-icon\"\n",
       "                 onclick=\"copyToClipboard('min_frequency',\n",
       "                          this.parentElement.nextElementSibling)\"\n",
       "            ></i></td>\n",
       "            <td class=\"param\">min_frequency&nbsp;</td>\n",
       "            <td class=\"value\">None</td>\n",
       "        </tr>\n",
       "    \n",
       "\n",
       "        <tr class=\"default\">\n",
       "            <td><i class=\"copy-paste-icon\"\n",
       "                 onclick=\"copyToClipboard('max_categories',\n",
       "                          this.parentElement.nextElementSibling)\"\n",
       "            ></i></td>\n",
       "            <td class=\"param\">max_categories&nbsp;</td>\n",
       "            <td class=\"value\">None</td>\n",
       "        </tr>\n",
       "    \n",
       "                  </tbody>\n",
       "                </table>\n",
       "            </details>\n",
       "        </div>\n",
       "    </div></div></div></div></div></div></div></div><div class=\"sk-parallel-item\"><div class=\"sk-item\"><div class=\"sk-label-container\"><div class=\"sk-label fitted sk-toggleable\"><input class=\"sk-toggleable__control sk-hidden--visually\" id=\"sk-estimator-id-20\" type=\"checkbox\" ><label for=\"sk-estimator-id-20\" class=\"sk-toggleable__label fitted sk-toggleable__label-arrow\"><div><div>nom</div></div></label><div class=\"sk-toggleable__content fitted\" data-param-prefix=\"nom__\"><pre>[&#x27;attr_WiFi&#x27;, &#x27;attr_Alcohol&#x27;, &#x27;attr_Smoking&#x27;]</pre></div></div></div><div class=\"sk-serial\"><div class=\"sk-item\"><div class=\"sk-serial\"><div class=\"sk-item\"><div class=\"sk-estimator fitted sk-toggleable\"><input class=\"sk-toggleable__control sk-hidden--visually\" id=\"sk-estimator-id-21\" type=\"checkbox\" ><label for=\"sk-estimator-id-21\" class=\"sk-toggleable__label fitted sk-toggleable__label-arrow\"><div><div>SimpleImputer</div></div><div><a class=\"sk-estimator-doc-link fitted\" rel=\"noreferrer\" target=\"_blank\" href=\"https://scikit-learn.org/1.7/modules/generated/sklearn.impute.SimpleImputer.html\">?<span>Documentation for SimpleImputer</span></a></div></label><div class=\"sk-toggleable__content fitted\" data-param-prefix=\"nom__imputer__\">\n",
       "        <div class=\"estimator-table\">\n",
       "            <details>\n",
       "                <summary>Parameters</summary>\n",
       "                <table class=\"parameters-table\">\n",
       "                  <tbody>\n",
       "                    \n",
       "        <tr class=\"default\">\n",
       "            <td><i class=\"copy-paste-icon\"\n",
       "                 onclick=\"copyToClipboard('missing_values',\n",
       "                          this.parentElement.nextElementSibling)\"\n",
       "            ></i></td>\n",
       "            <td class=\"param\">missing_values&nbsp;</td>\n",
       "            <td class=\"value\">nan</td>\n",
       "        </tr>\n",
       "    \n",
       "\n",
       "        <tr class=\"user-set\">\n",
       "            <td><i class=\"copy-paste-icon\"\n",
       "                 onclick=\"copyToClipboard('strategy',\n",
       "                          this.parentElement.nextElementSibling)\"\n",
       "            ></i></td>\n",
       "            <td class=\"param\">strategy&nbsp;</td>\n",
       "            <td class=\"value\">&#x27;constant&#x27;</td>\n",
       "        </tr>\n",
       "    \n",
       "\n",
       "        <tr class=\"user-set\">\n",
       "            <td><i class=\"copy-paste-icon\"\n",
       "                 onclick=\"copyToClipboard('fill_value',\n",
       "                          this.parentElement.nextElementSibling)\"\n",
       "            ></i></td>\n",
       "            <td class=\"param\">fill_value&nbsp;</td>\n",
       "            <td class=\"value\">&#x27;missing&#x27;</td>\n",
       "        </tr>\n",
       "    \n",
       "\n",
       "        <tr class=\"default\">\n",
       "            <td><i class=\"copy-paste-icon\"\n",
       "                 onclick=\"copyToClipboard('copy',\n",
       "                          this.parentElement.nextElementSibling)\"\n",
       "            ></i></td>\n",
       "            <td class=\"param\">copy&nbsp;</td>\n",
       "            <td class=\"value\">True</td>\n",
       "        </tr>\n",
       "    \n",
       "\n",
       "        <tr class=\"default\">\n",
       "            <td><i class=\"copy-paste-icon\"\n",
       "                 onclick=\"copyToClipboard('add_indicator',\n",
       "                          this.parentElement.nextElementSibling)\"\n",
       "            ></i></td>\n",
       "            <td class=\"param\">add_indicator&nbsp;</td>\n",
       "            <td class=\"value\">False</td>\n",
       "        </tr>\n",
       "    \n",
       "\n",
       "        <tr class=\"user-set\">\n",
       "            <td><i class=\"copy-paste-icon\"\n",
       "                 onclick=\"copyToClipboard('keep_empty_features',\n",
       "                          this.parentElement.nextElementSibling)\"\n",
       "            ></i></td>\n",
       "            <td class=\"param\">keep_empty_features&nbsp;</td>\n",
       "            <td class=\"value\">True</td>\n",
       "        </tr>\n",
       "    \n",
       "                  </tbody>\n",
       "                </table>\n",
       "            </details>\n",
       "        </div>\n",
       "    </div></div></div><div class=\"sk-item\"><div class=\"sk-estimator fitted sk-toggleable\"><input class=\"sk-toggleable__control sk-hidden--visually\" id=\"sk-estimator-id-22\" type=\"checkbox\" ><label for=\"sk-estimator-id-22\" class=\"sk-toggleable__label fitted sk-toggleable__label-arrow\"><div><div>OneHotEncoder</div></div><div><a class=\"sk-estimator-doc-link fitted\" rel=\"noreferrer\" target=\"_blank\" href=\"https://scikit-learn.org/1.7/modules/generated/sklearn.preprocessing.OneHotEncoder.html\">?<span>Documentation for OneHotEncoder</span></a></div></label><div class=\"sk-toggleable__content fitted\" data-param-prefix=\"nom__ohe__\">\n",
       "        <div class=\"estimator-table\">\n",
       "            <details>\n",
       "                <summary>Parameters</summary>\n",
       "                <table class=\"parameters-table\">\n",
       "                  <tbody>\n",
       "                    \n",
       "        <tr class=\"default\">\n",
       "            <td><i class=\"copy-paste-icon\"\n",
       "                 onclick=\"copyToClipboard('categories',\n",
       "                          this.parentElement.nextElementSibling)\"\n",
       "            ></i></td>\n",
       "            <td class=\"param\">categories&nbsp;</td>\n",
       "            <td class=\"value\">&#x27;auto&#x27;</td>\n",
       "        </tr>\n",
       "    \n",
       "\n",
       "        <tr class=\"default\">\n",
       "            <td><i class=\"copy-paste-icon\"\n",
       "                 onclick=\"copyToClipboard('drop',\n",
       "                          this.parentElement.nextElementSibling)\"\n",
       "            ></i></td>\n",
       "            <td class=\"param\">drop&nbsp;</td>\n",
       "            <td class=\"value\">None</td>\n",
       "        </tr>\n",
       "    \n",
       "\n",
       "        <tr class=\"user-set\">\n",
       "            <td><i class=\"copy-paste-icon\"\n",
       "                 onclick=\"copyToClipboard('sparse_output',\n",
       "                          this.parentElement.nextElementSibling)\"\n",
       "            ></i></td>\n",
       "            <td class=\"param\">sparse_output&nbsp;</td>\n",
       "            <td class=\"value\">False</td>\n",
       "        </tr>\n",
       "    \n",
       "\n",
       "        <tr class=\"default\">\n",
       "            <td><i class=\"copy-paste-icon\"\n",
       "                 onclick=\"copyToClipboard('dtype',\n",
       "                          this.parentElement.nextElementSibling)\"\n",
       "            ></i></td>\n",
       "            <td class=\"param\">dtype&nbsp;</td>\n",
       "            <td class=\"value\">&lt;class &#x27;numpy.float64&#x27;&gt;</td>\n",
       "        </tr>\n",
       "    \n",
       "\n",
       "        <tr class=\"user-set\">\n",
       "            <td><i class=\"copy-paste-icon\"\n",
       "                 onclick=\"copyToClipboard('handle_unknown',\n",
       "                          this.parentElement.nextElementSibling)\"\n",
       "            ></i></td>\n",
       "            <td class=\"param\">handle_unknown&nbsp;</td>\n",
       "            <td class=\"value\">&#x27;ignore&#x27;</td>\n",
       "        </tr>\n",
       "    \n",
       "\n",
       "        <tr class=\"default\">\n",
       "            <td><i class=\"copy-paste-icon\"\n",
       "                 onclick=\"copyToClipboard('min_frequency',\n",
       "                          this.parentElement.nextElementSibling)\"\n",
       "            ></i></td>\n",
       "            <td class=\"param\">min_frequency&nbsp;</td>\n",
       "            <td class=\"value\">None</td>\n",
       "        </tr>\n",
       "    \n",
       "\n",
       "        <tr class=\"default\">\n",
       "            <td><i class=\"copy-paste-icon\"\n",
       "                 onclick=\"copyToClipboard('max_categories',\n",
       "                          this.parentElement.nextElementSibling)\"\n",
       "            ></i></td>\n",
       "            <td class=\"param\">max_categories&nbsp;</td>\n",
       "            <td class=\"value\">None</td>\n",
       "        </tr>\n",
       "    \n",
       "\n",
       "        <tr class=\"default\">\n",
       "            <td><i class=\"copy-paste-icon\"\n",
       "                 onclick=\"copyToClipboard('feature_name_combiner',\n",
       "                          this.parentElement.nextElementSibling)\"\n",
       "            ></i></td>\n",
       "            <td class=\"param\">feature_name_combiner&nbsp;</td>\n",
       "            <td class=\"value\">&#x27;concat&#x27;</td>\n",
       "        </tr>\n",
       "    \n",
       "                  </tbody>\n",
       "                </table>\n",
       "            </details>\n",
       "        </div>\n",
       "    </div></div></div></div></div></div></div></div><div class=\"sk-parallel-item\"><div class=\"sk-item\"><div class=\"sk-label-container\"><div class=\"sk-label fitted sk-toggleable\"><input class=\"sk-toggleable__control sk-hidden--visually\" id=\"sk-estimator-id-23\" type=\"checkbox\" ><label for=\"sk-estimator-id-23\" class=\"sk-toggleable__label fitted sk-toggleable__label-arrow\"><div><div>bool</div></div></label><div class=\"sk-toggleable__content fitted\" data-param-prefix=\"bool__\"><pre>[&#x27;is_open&#x27;, &#x27;attr_ByAppointmentOnly&#x27;, &#x27;attr_BusinessAcceptsCreditCards&#x27;, &#x27;attr_BikeParking&#x27;, &#x27;attr_RestaurantsTakeOut&#x27;, &#x27;attr_RestaurantsDelivery&#x27;, &#x27;attr_Caters&#x27;, &#x27;attr_WheelchairAccessible&#x27;, &#x27;attr_HappyHour&#x27;, &#x27;attr_OutdoorSeating&#x27;, &#x27;attr_HasTV&#x27;, &#x27;attr_RestaurantsReservations&#x27;, &#x27;attr_DogsAllowed&#x27;, &#x27;attr_GoodForKids&#x27;, &#x27;attr_RestaurantsTableService&#x27;, &#x27;attr_RestaurantsGoodForGroups&#x27;, &#x27;attr_DriveThru&#x27;, &#x27;has_hours_info&#x27;]</pre></div></div></div><div class=\"sk-serial\"><div class=\"sk-item\"><div class=\"sk-serial\"><div class=\"sk-item\"><div class=\"sk-estimator fitted sk-toggleable\"><input class=\"sk-toggleable__control sk-hidden--visually\" id=\"sk-estimator-id-24\" type=\"checkbox\" ><label for=\"sk-estimator-id-24\" class=\"sk-toggleable__label fitted sk-toggleable__label-arrow\"><div><div>SimpleImputer</div></div><div><a class=\"sk-estimator-doc-link fitted\" rel=\"noreferrer\" target=\"_blank\" href=\"https://scikit-learn.org/1.7/modules/generated/sklearn.impute.SimpleImputer.html\">?<span>Documentation for SimpleImputer</span></a></div></label><div class=\"sk-toggleable__content fitted\" data-param-prefix=\"bool__imputer__\">\n",
       "        <div class=\"estimator-table\">\n",
       "            <details>\n",
       "                <summary>Parameters</summary>\n",
       "                <table class=\"parameters-table\">\n",
       "                  <tbody>\n",
       "                    \n",
       "        <tr class=\"default\">\n",
       "            <td><i class=\"copy-paste-icon\"\n",
       "                 onclick=\"copyToClipboard('missing_values',\n",
       "                          this.parentElement.nextElementSibling)\"\n",
       "            ></i></td>\n",
       "            <td class=\"param\">missing_values&nbsp;</td>\n",
       "            <td class=\"value\">nan</td>\n",
       "        </tr>\n",
       "    \n",
       "\n",
       "        <tr class=\"user-set\">\n",
       "            <td><i class=\"copy-paste-icon\"\n",
       "                 onclick=\"copyToClipboard('strategy',\n",
       "                          this.parentElement.nextElementSibling)\"\n",
       "            ></i></td>\n",
       "            <td class=\"param\">strategy&nbsp;</td>\n",
       "            <td class=\"value\">&#x27;constant&#x27;</td>\n",
       "        </tr>\n",
       "    \n",
       "\n",
       "        <tr class=\"user-set\">\n",
       "            <td><i class=\"copy-paste-icon\"\n",
       "                 onclick=\"copyToClipboard('fill_value',\n",
       "                          this.parentElement.nextElementSibling)\"\n",
       "            ></i></td>\n",
       "            <td class=\"param\">fill_value&nbsp;</td>\n",
       "            <td class=\"value\">False</td>\n",
       "        </tr>\n",
       "    \n",
       "\n",
       "        <tr class=\"default\">\n",
       "            <td><i class=\"copy-paste-icon\"\n",
       "                 onclick=\"copyToClipboard('copy',\n",
       "                          this.parentElement.nextElementSibling)\"\n",
       "            ></i></td>\n",
       "            <td class=\"param\">copy&nbsp;</td>\n",
       "            <td class=\"value\">True</td>\n",
       "        </tr>\n",
       "    \n",
       "\n",
       "        <tr class=\"default\">\n",
       "            <td><i class=\"copy-paste-icon\"\n",
       "                 onclick=\"copyToClipboard('add_indicator',\n",
       "                          this.parentElement.nextElementSibling)\"\n",
       "            ></i></td>\n",
       "            <td class=\"param\">add_indicator&nbsp;</td>\n",
       "            <td class=\"value\">False</td>\n",
       "        </tr>\n",
       "    \n",
       "\n",
       "        <tr class=\"default\">\n",
       "            <td><i class=\"copy-paste-icon\"\n",
       "                 onclick=\"copyToClipboard('keep_empty_features',\n",
       "                          this.parentElement.nextElementSibling)\"\n",
       "            ></i></td>\n",
       "            <td class=\"param\">keep_empty_features&nbsp;</td>\n",
       "            <td class=\"value\">False</td>\n",
       "        </tr>\n",
       "    \n",
       "                  </tbody>\n",
       "                </table>\n",
       "            </details>\n",
       "        </div>\n",
       "    </div></div></div></div></div></div></div></div><div class=\"sk-parallel-item\"><div class=\"sk-item\"><div class=\"sk-label-container\"><div class=\"sk-label fitted sk-toggleable\"><input class=\"sk-toggleable__control sk-hidden--visually\" id=\"sk-estimator-id-25\" type=\"checkbox\" ><label for=\"sk-estimator-id-25\" class=\"sk-toggleable__label fitted sk-toggleable__label-arrow\"><div><div>onehot_already</div></div></label><div class=\"sk-toggleable__content fitted\" data-param-prefix=\"onehot_already__\"><pre>[&#x27;cat__Sandwiches&#x27;, &#x27;cat__American (Traditional)&#x27;, &#x27;cat__Pizza&#x27;, &#x27;cat__Fast Food&#x27;, &#x27;cat__Breakfast &amp; Brunch&#x27;, &#x27;cat__American (New)&#x27;, &#x27;cat__Burgers&#x27;, &#x27;cat__Mexican&#x27;, &#x27;cat__Italian&#x27;, &#x27;cat__Coffee &amp; Tea&#x27;, &#x27;cat__Seafood&#x27;, &#x27;cat__Chinese&#x27;, &#x27;cat__Salad&#x27;, &#x27;cat__Chicken Wings&#x27;, &#x27;cat__Cafes&#x27;, &#x27;cat__Delis&#x27;, &#x27;cat__Caterers&#x27;, &#x27;cat__Specialty Food&#x27;, &#x27;cat__Bakeries&#x27;, &#x27;cat__Desserts&#x27;]</pre></div></div></div><div class=\"sk-serial\"><div class=\"sk-item\"><div class=\"sk-estimator fitted sk-toggleable\"><input class=\"sk-toggleable__control sk-hidden--visually\" id=\"sk-estimator-id-26\" type=\"checkbox\" ><label for=\"sk-estimator-id-26\" class=\"sk-toggleable__label fitted sk-toggleable__label-arrow\"><div><div>passthrough</div></div></label><div class=\"sk-toggleable__content fitted\" data-param-prefix=\"onehot_already__\"><pre>passthrough</pre></div></div></div></div></div></div></div></div></div></div><script>function copyToClipboard(text, element) {\n",
       "    // Get the parameter prefix from the closest toggleable content\n",
       "    const toggleableContent = element.closest('.sk-toggleable__content');\n",
       "    const paramPrefix = toggleableContent ? toggleableContent.dataset.paramPrefix : '';\n",
       "    const fullParamName = paramPrefix ? `${paramPrefix}${text}` : text;\n",
       "\n",
       "    const originalStyle = element.style;\n",
       "    const computedStyle = window.getComputedStyle(element);\n",
       "    const originalWidth = computedStyle.width;\n",
       "    const originalHTML = element.innerHTML.replace('Copied!', '');\n",
       "\n",
       "    navigator.clipboard.writeText(fullParamName)\n",
       "        .then(() => {\n",
       "            element.style.width = originalWidth;\n",
       "            element.style.color = 'green';\n",
       "            element.innerHTML = \"Copied!\";\n",
       "\n",
       "            setTimeout(() => {\n",
       "                element.innerHTML = originalHTML;\n",
       "                element.style = originalStyle;\n",
       "            }, 2000);\n",
       "        })\n",
       "        .catch(err => {\n",
       "            console.error('Failed to copy:', err);\n",
       "            element.style.color = 'red';\n",
       "            element.innerHTML = \"Failed!\";\n",
       "            setTimeout(() => {\n",
       "                element.innerHTML = originalHTML;\n",
       "                element.style = originalStyle;\n",
       "            }, 2000);\n",
       "        });\n",
       "    return false;\n",
       "}\n",
       "\n",
       "document.querySelectorAll('.fa-regular.fa-copy').forEach(function(element) {\n",
       "    const toggleableContent = element.closest('.sk-toggleable__content');\n",
       "    const paramPrefix = toggleableContent ? toggleableContent.dataset.paramPrefix : '';\n",
       "    const paramName = element.parentElement.nextElementSibling.textContent.trim();\n",
       "    const fullParamName = paramPrefix ? `${paramPrefix}${paramName}` : paramName;\n",
       "\n",
       "    element.setAttribute('title', fullParamName);\n",
       "});\n",
       "</script></body>"
      ],
      "text/plain": [
       "ColumnTransformer(transformers=[('cont',\n",
       "                                 Pipeline(steps=[('imputer',\n",
       "                                                  SimpleImputer(strategy='median')),\n",
       "                                                 ('scaler', MinMaxScaler())]),\n",
       "                                 ['latitude', 'longitude', 'review_count_log1p',\n",
       "                                  'rl_word_mean', 'rl_share_short24',\n",
       "                                  'total_weekly_hours', 'days_open',\n",
       "                                  'weekend_hours', 'avg_daily_hours']),\n",
       "                                ('ord',\n",
       "                                 Pipeline(steps=[('encoder',\n",
       "                                                  OrdinalEncoder(categories=[[1,\n",
       "                                                                              2,\n",
       "                                                                              3,\n",
       "                                                                              4],\n",
       "                                                                             ['...\n",
       "                                ('onehot_already', 'passthrough',\n",
       "                                 ['cat__Sandwiches',\n",
       "                                  'cat__American (Traditional)', 'cat__Pizza',\n",
       "                                  'cat__Fast Food', 'cat__Breakfast & Brunch',\n",
       "                                  'cat__American (New)', 'cat__Burgers',\n",
       "                                  'cat__Mexican', 'cat__Italian',\n",
       "                                  'cat__Coffee & Tea', 'cat__Seafood',\n",
       "                                  'cat__Chinese', 'cat__Salad',\n",
       "                                  'cat__Chicken Wings', 'cat__Cafes',\n",
       "                                  'cat__Delis', 'cat__Caterers',\n",
       "                                  'cat__Specialty Food', 'cat__Bakeries',\n",
       "                                  'cat__Desserts'])])"
      ]
     },
     "execution_count": 9,
     "metadata": {},
     "output_type": "execute_result"
    }
   ],
   "source": [
    "preprocessor"
   ]
  },
  {
   "cell_type": "code",
   "execution_count": 10,
   "id": "d097d263",
   "metadata": {},
   "outputs": [
    {
     "data": {
      "text/plain": [
       "<Experiment: artifact_location='mlflow-artifacts:/786926549055850120', creation_time=1759981678118, experiment_id='786926549055850120', last_update_time=1759981678118, lifecycle_stage='active', name='BDA602 Yelp project', tags={'mlflow.experimentKind': 'custom_model_development'}>"
      ]
     },
     "execution_count": 10,
     "metadata": {},
     "output_type": "execute_result"
    }
   ],
   "source": [
    "# Configure this week into central ML repository for course\n",
    "import mlflow\n",
    "mlflow.set_tracking_uri(uri=\"http://127.0.0.1:5000\")\n",
    "# Set experiment name for this module\n",
    "mlflow.set_experiment(\"BDA602 Yelp project\")"
   ]
  },
  {
   "cell_type": "markdown",
   "id": "efa8cebc",
   "metadata": {},
   "source": [
    "## Coercing"
   ]
  },
  {
   "cell_type": "code",
   "execution_count": 11,
   "id": "d007bb75",
   "metadata": {},
   "outputs": [
    {
     "name": "stderr",
     "output_type": "stream",
     "text": [
      "/var/folders/l_/bfn4zmvj11j3519tmtl4xcd40000gn/T/ipykernel_81723/1128991930.py:21: FutureWarning: Downcasting behavior in `replace` is deprecated and will be removed in a future version. To retain the old behavior, explicitly call `result.infer_objects(copy=False)`. To opt-in to the future behavior, set `pd.set_option('future.no_silent_downcasting', True)`\n",
      "  df[col] = df[col].astype(str).str.strip().replace(\n",
      "/var/folders/l_/bfn4zmvj11j3519tmtl4xcd40000gn/T/ipykernel_81723/1128991930.py:21: FutureWarning: Downcasting behavior in `replace` is deprecated and will be removed in a future version. To retain the old behavior, explicitly call `result.infer_objects(copy=False)`. To opt-in to the future behavior, set `pd.set_option('future.no_silent_downcasting', True)`\n",
      "  df[col] = df[col].astype(str).str.strip().replace(\n"
     ]
    }
   ],
   "source": [
    "import pandas as pd\n",
    "import numpy as np\n",
    "\n",
    "# --- 1. Convert datetime columns ---\n",
    "datetime_cols = [\"first_review_2019\", \"last_review_2019\"]\n",
    "for col in datetime_cols:\n",
    "    df[col] = pd.to_datetime(df[col], errors=\"coerce\")\n",
    "\n",
    "# --- 2. Convert boolean columns (True/False or Yes/No or t/f) ---\n",
    "bool_cols = [\n",
    "    \"is_open\", \"attr_ByAppointmentOnly\", \"attr_BusinessAcceptsCreditCards\",\n",
    "    \"attr_BikeParking\", \"attr_RestaurantsTakeOut\", \"attr_RestaurantsDelivery\",\n",
    "    \"attr_Caters\", \"attr_WheelchairAccessible\", \"attr_HappyHour\",\n",
    "    \"attr_OutdoorSeating\", \"attr_HasTV\", \"attr_RestaurantsReservations\",\n",
    "    \"attr_DogsAllowed\", \"attr_GoodForKids\", \"attr_RestaurantsTableService\",\n",
    "    \"attr_RestaurantsGoodForGroups\", \"attr_DriveThru\", \"has_hours_info\"\n",
    "]\n",
    "\n",
    "for col in bool_cols:\n",
    "    if col in df.columns:\n",
    "        df[col] = df[col].astype(str).str.strip().replace(\n",
    "            {\"True\": True, \"False\": False, \"Yes\": True, \"No\": False, \"None\": np.nan, \"nan\": np.nan}\n",
    "        )\n",
    "        df[col] = df[col].astype(\"boolean\")\n",
    "\n",
    "# --- 3. Convert category columns ---\n",
    "category_cols = [\n",
    "    \"attr_RestaurantsPriceRange2\", \"attr_WiFi\", \"attr_Alcohol\",\n",
    "    \"attr_RestaurantsAttire\", \"attr_NoiseLevel\", \"attr_Smoking\"\n",
    "]\n",
    "for col in category_cols:\n",
    "    if col in df.columns:\n",
    "        df[col] = df[col].astype(\"category\")\n",
    "\n",
    "# --- 4. Convert small integer columns to int8 for memory efficiency ---\n",
    "int8_cols = [\n",
    "    \"cat__Sandwiches\", \"cat__American (Traditional)\", \"cat__Pizza\",\n",
    "    \"cat__Fast Food\", \"cat__Breakfast & Brunch\", \"cat__American (New)\",\n",
    "    \"cat__Burgers\", \"cat__Mexican\", \"cat__Italian\", \"cat__Coffee & Tea\",\n",
    "    \"cat__Seafood\", \"cat__Chinese\", \"cat__Salad\", \"cat__Chicken Wings\",\n",
    "    \"cat__Cafes\", \"cat__Delis\", \"cat__Caterers\", \"cat__Specialty Food\",\n",
    "    \"cat__Bakeries\", \"cat__Desserts\"\n",
    "]\n",
    "for col in int8_cols:\n",
    "    if col in df.columns:\n",
    "        df[col] = df[col].astype(\"int8\")\n",
    "\n",
    "# --- 5. Convert others explicitly to float if not already ---\n",
    "float_cols = [\n",
    "    \"latitude\", \"longitude\", \"review_count\", \"review_count_log1p\",\n",
    "    \"total_weekly_hours\", \"days_open\", \"weekend_hours\", \"avg_daily_hours\",\n",
    "    \"avg_stars_2019\", \"rl_word_mean\", \"rl_share_short24\"\n",
    "]\n",
    "for col in float_cols:\n",
    "    if col in df.columns:\n",
    "        df[col] = pd.to_numeric(df[col], errors=\"coerce\").astype(\"float64\")\n",
    "\n",
    "# --- 6. Optional: compress integers like rev_count_2019 ---\n",
    "df[\"rev_count_2019\"] = df[\"rev_count_2019\"].astype(\"int64\")\n"
   ]
  },
  {
   "cell_type": "markdown",
   "id": "41e07591",
   "metadata": {},
   "source": [
    "## Define Target and Predictor"
   ]
  },
  {
   "cell_type": "code",
   "execution_count": 12,
   "id": "deca40f9",
   "metadata": {},
   "outputs": [],
   "source": [
    "# Target\n",
    "y = df[\"avg_stars_2019\"].astype(float)\n",
    "\n",
    "# Columns to exclude from predictors\n",
    "exclude = {\n",
    "    \"business_id\", \"city\", \"state\",\n",
    "    \"avg_stars_2019\", \"review_count\",\n",
    "    \"rev_count_2019\", \"first_review_2019\", \"last_review_2019\",\n",
    "}\n",
    "\n",
    "# Build X (everything except target + excluded)\n",
    "\n",
    "feature_cols = [c for c in df.columns if c not in exclude]\n",
    "X = df[feature_cols].copy()"
   ]
  },
  {
   "cell_type": "code",
   "execution_count": 13,
   "id": "cce743a9",
   "metadata": {},
   "outputs": [
    {
     "name": "stdout",
     "output_type": "stream",
     "text": [
      "<class 'pandas.core.frame.DataFrame'>\n",
      "RangeIndex: 36261 entries, 0 to 36260\n",
      "Data columns (total 61 columns):\n",
      " #   Column                           Non-Null Count  Dtype         \n",
      "---  ------                           --------------  -----         \n",
      " 0   business_id                      36261 non-null  object        \n",
      " 1   city                             36261 non-null  object        \n",
      " 2   state                            36261 non-null  object        \n",
      " 3   latitude                         36261 non-null  float64       \n",
      " 4   longitude                        36261 non-null  float64       \n",
      " 5   review_count                     36261 non-null  float64       \n",
      " 6   is_open                          36261 non-null  boolean       \n",
      " 7   review_count_log1p               36261 non-null  float64       \n",
      " 8   attr_ByAppointmentOnly           3139 non-null   boolean       \n",
      " 9   attr_BusinessAcceptsCreditCards  31372 non-null  boolean       \n",
      " 10  attr_BikeParking                 26853 non-null  boolean       \n",
      " 11  attr_RestaurantsPriceRange2      29672 non-null  category      \n",
      " 12  attr_RestaurantsTakeOut          33187 non-null  boolean       \n",
      " 13  attr_RestaurantsDelivery         31363 non-null  boolean       \n",
      " 14  attr_Caters                      25596 non-null  boolean       \n",
      " 15  attr_WiFi                        27525 non-null  category      \n",
      " 16  attr_WheelchairAccessible        11787 non-null  boolean       \n",
      " 17  attr_HappyHour                   10870 non-null  boolean       \n",
      " 18  attr_OutdoorSeating              28323 non-null  boolean       \n",
      " 19  attr_HasTV                       29718 non-null  boolean       \n",
      " 20  attr_RestaurantsReservations     29308 non-null  boolean       \n",
      " 21  attr_DogsAllowed                 10543 non-null  boolean       \n",
      " 22  attr_Alcohol                     13375 non-null  category      \n",
      " 23  attr_GoodForKids                 27103 non-null  boolean       \n",
      " 24  attr_RestaurantsAttire           25418 non-null  category      \n",
      " 25  attr_RestaurantsTableService     16532 non-null  boolean       \n",
      " 26  attr_RestaurantsGoodForGroups    27531 non-null  boolean       \n",
      " 27  attr_DriveThru                   5247 non-null   boolean       \n",
      " 28  attr_NoiseLevel                  23674 non-null  category      \n",
      " 29  attr_Smoking                     0 non-null      category      \n",
      " 30  total_weekly_hours               36261 non-null  float64       \n",
      " 31  days_open                        36261 non-null  float64       \n",
      " 32  weekend_hours                    36261 non-null  float64       \n",
      " 33  avg_daily_hours                  36261 non-null  float64       \n",
      " 34  has_hours_info                   36261 non-null  boolean       \n",
      " 35  cat__Sandwiches                  36261 non-null  int8          \n",
      " 36  cat__American (Traditional)      36261 non-null  int8          \n",
      " 37  cat__Pizza                       36261 non-null  int8          \n",
      " 38  cat__Fast Food                   36261 non-null  int8          \n",
      " 39  cat__Breakfast & Brunch          36261 non-null  int8          \n",
      " 40  cat__American (New)              36261 non-null  int8          \n",
      " 41  cat__Burgers                     36261 non-null  int8          \n",
      " 42  cat__Mexican                     36261 non-null  int8          \n",
      " 43  cat__Italian                     36261 non-null  int8          \n",
      " 44  cat__Coffee & Tea                36261 non-null  int8          \n",
      " 45  cat__Seafood                     36261 non-null  int8          \n",
      " 46  cat__Chinese                     36261 non-null  int8          \n",
      " 47  cat__Salad                       36261 non-null  int8          \n",
      " 48  cat__Chicken Wings               36261 non-null  int8          \n",
      " 49  cat__Cafes                       36261 non-null  int8          \n",
      " 50  cat__Delis                       36261 non-null  int8          \n",
      " 51  cat__Caterers                    36261 non-null  int8          \n",
      " 52  cat__Specialty Food              36261 non-null  int8          \n",
      " 53  cat__Bakeries                    36261 non-null  int8          \n",
      " 54  cat__Desserts                    36261 non-null  int8          \n",
      " 55  rev_count_2019                   36261 non-null  int64         \n",
      " 56  avg_stars_2019                   36261 non-null  float64       \n",
      " 57  first_review_2019                36261 non-null  datetime64[ns]\n",
      " 58  last_review_2019                 36261 non-null  datetime64[ns]\n",
      " 59  rl_word_mean                     36261 non-null  float64       \n",
      " 60  rl_share_short24                 36261 non-null  float64       \n",
      "dtypes: boolean(18), category(6), datetime64[ns](2), float64(11), int64(1), int8(20), object(3)\n",
      "memory usage: 6.8+ MB\n"
     ]
    }
   ],
   "source": [
    "df.info()"
   ]
  },
  {
   "cell_type": "code",
   "execution_count": 14,
   "id": "8b5cd75d",
   "metadata": {},
   "outputs": [
    {
     "data": {
      "text/plain": [
       "avg_stars_2019\n",
       "0    0.614\n",
       "1    0.386\n",
       "Name: proportion, dtype: float64"
      ]
     },
     "execution_count": 14,
     "metadata": {},
     "output_type": "execute_result"
    }
   ],
   "source": [
    "# Binary classification target\n",
    "y_cls = (y >= 4.0).astype(int)\n",
    "y_cls.value_counts(normalize=True).round(3)  # quick class balance check"
   ]
  },
  {
   "cell_type": "markdown",
   "id": "314b23f6",
   "metadata": {},
   "source": [
    "## Split X train and y train"
   ]
  },
  {
   "cell_type": "code",
   "execution_count": 15,
   "id": "14a313cc",
   "metadata": {},
   "outputs": [
    {
     "data": {
      "text/html": [
       "<div>\n",
       "<style scoped>\n",
       "    .dataframe tbody tr th:only-of-type {\n",
       "        vertical-align: middle;\n",
       "    }\n",
       "\n",
       "    .dataframe tbody tr th {\n",
       "        vertical-align: top;\n",
       "    }\n",
       "\n",
       "    .dataframe thead th {\n",
       "        text-align: right;\n",
       "    }\n",
       "</style>\n",
       "<table border=\"1\" class=\"dataframe\">\n",
       "  <thead>\n",
       "    <tr style=\"text-align: right;\">\n",
       "      <th></th>\n",
       "      <th>latitude</th>\n",
       "      <th>longitude</th>\n",
       "      <th>is_open</th>\n",
       "      <th>review_count_log1p</th>\n",
       "      <th>attr_ByAppointmentOnly</th>\n",
       "      <th>attr_BusinessAcceptsCreditCards</th>\n",
       "      <th>attr_BikeParking</th>\n",
       "      <th>attr_RestaurantsPriceRange2</th>\n",
       "      <th>attr_RestaurantsTakeOut</th>\n",
       "      <th>attr_RestaurantsDelivery</th>\n",
       "      <th>...</th>\n",
       "      <th>cat__Salad</th>\n",
       "      <th>cat__Chicken Wings</th>\n",
       "      <th>cat__Cafes</th>\n",
       "      <th>cat__Delis</th>\n",
       "      <th>cat__Caterers</th>\n",
       "      <th>cat__Specialty Food</th>\n",
       "      <th>cat__Bakeries</th>\n",
       "      <th>cat__Desserts</th>\n",
       "      <th>rl_word_mean</th>\n",
       "      <th>rl_share_short24</th>\n",
       "    </tr>\n",
       "  </thead>\n",
       "  <tbody>\n",
       "    <tr>\n",
       "      <th>8442</th>\n",
       "      <td>38.738936</td>\n",
       "      <td>-90.397281</td>\n",
       "      <td>True</td>\n",
       "      <td>4.574711</td>\n",
       "      <td>&lt;NA&gt;</td>\n",
       "      <td>True</td>\n",
       "      <td>False</td>\n",
       "      <td>2.0</td>\n",
       "      <td>True</td>\n",
       "      <td>True</td>\n",
       "      <td>...</td>\n",
       "      <td>0</td>\n",
       "      <td>0</td>\n",
       "      <td>0</td>\n",
       "      <td>0</td>\n",
       "      <td>0</td>\n",
       "      <td>0</td>\n",
       "      <td>0</td>\n",
       "      <td>0</td>\n",
       "      <td>71.37500</td>\n",
       "      <td>0.208333</td>\n",
       "    </tr>\n",
       "    <tr>\n",
       "      <th>5934</th>\n",
       "      <td>40.209943</td>\n",
       "      <td>-75.225566</td>\n",
       "      <td>True</td>\n",
       "      <td>4.812184</td>\n",
       "      <td>&lt;NA&gt;</td>\n",
       "      <td>True</td>\n",
       "      <td>True</td>\n",
       "      <td>2.0</td>\n",
       "      <td>True</td>\n",
       "      <td>True</td>\n",
       "      <td>...</td>\n",
       "      <td>1</td>\n",
       "      <td>0</td>\n",
       "      <td>0</td>\n",
       "      <td>0</td>\n",
       "      <td>0</td>\n",
       "      <td>0</td>\n",
       "      <td>0</td>\n",
       "      <td>0</td>\n",
       "      <td>106.06250</td>\n",
       "      <td>0.093750</td>\n",
       "    </tr>\n",
       "    <tr>\n",
       "      <th>31281</th>\n",
       "      <td>39.752035</td>\n",
       "      <td>-75.541795</td>\n",
       "      <td>True</td>\n",
       "      <td>2.079442</td>\n",
       "      <td>&lt;NA&gt;</td>\n",
       "      <td>True</td>\n",
       "      <td>False</td>\n",
       "      <td>1.0</td>\n",
       "      <td>True</td>\n",
       "      <td>True</td>\n",
       "      <td>...</td>\n",
       "      <td>0</td>\n",
       "      <td>0</td>\n",
       "      <td>0</td>\n",
       "      <td>0</td>\n",
       "      <td>0</td>\n",
       "      <td>0</td>\n",
       "      <td>0</td>\n",
       "      <td>0</td>\n",
       "      <td>66.00000</td>\n",
       "      <td>0.000000</td>\n",
       "    </tr>\n",
       "    <tr>\n",
       "      <th>18393</th>\n",
       "      <td>53.517787</td>\n",
       "      <td>-113.509450</td>\n",
       "      <td>True</td>\n",
       "      <td>4.025352</td>\n",
       "      <td>&lt;NA&gt;</td>\n",
       "      <td>&lt;NA&gt;</td>\n",
       "      <td>False</td>\n",
       "      <td>2.0</td>\n",
       "      <td>True</td>\n",
       "      <td>True</td>\n",
       "      <td>...</td>\n",
       "      <td>0</td>\n",
       "      <td>0</td>\n",
       "      <td>0</td>\n",
       "      <td>0</td>\n",
       "      <td>0</td>\n",
       "      <td>0</td>\n",
       "      <td>0</td>\n",
       "      <td>0</td>\n",
       "      <td>145.42857</td>\n",
       "      <td>0.000000</td>\n",
       "    </tr>\n",
       "    <tr>\n",
       "      <th>21544</th>\n",
       "      <td>30.020080</td>\n",
       "      <td>-90.250600</td>\n",
       "      <td>True</td>\n",
       "      <td>2.397895</td>\n",
       "      <td>&lt;NA&gt;</td>\n",
       "      <td>True</td>\n",
       "      <td>False</td>\n",
       "      <td>1.0</td>\n",
       "      <td>True</td>\n",
       "      <td>True</td>\n",
       "      <td>...</td>\n",
       "      <td>0</td>\n",
       "      <td>0</td>\n",
       "      <td>0</td>\n",
       "      <td>0</td>\n",
       "      <td>0</td>\n",
       "      <td>0</td>\n",
       "      <td>0</td>\n",
       "      <td>0</td>\n",
       "      <td>65.85714</td>\n",
       "      <td>0.142857</td>\n",
       "    </tr>\n",
       "  </tbody>\n",
       "</table>\n",
       "<p>5 rows × 53 columns</p>\n",
       "</div>"
      ],
      "text/plain": [
       "        latitude   longitude  is_open  review_count_log1p  \\\n",
       "8442   38.738936  -90.397281     True            4.574711   \n",
       "5934   40.209943  -75.225566     True            4.812184   \n",
       "31281  39.752035  -75.541795     True            2.079442   \n",
       "18393  53.517787 -113.509450     True            4.025352   \n",
       "21544  30.020080  -90.250600     True            2.397895   \n",
       "\n",
       "       attr_ByAppointmentOnly  attr_BusinessAcceptsCreditCards  \\\n",
       "8442                     <NA>                             True   \n",
       "5934                     <NA>                             True   \n",
       "31281                    <NA>                             True   \n",
       "18393                    <NA>                             <NA>   \n",
       "21544                    <NA>                             True   \n",
       "\n",
       "       attr_BikeParking attr_RestaurantsPriceRange2  attr_RestaurantsTakeOut  \\\n",
       "8442              False                         2.0                     True   \n",
       "5934               True                         2.0                     True   \n",
       "31281             False                         1.0                     True   \n",
       "18393             False                         2.0                     True   \n",
       "21544             False                         1.0                     True   \n",
       "\n",
       "       attr_RestaurantsDelivery  ...  cat__Salad cat__Chicken Wings  \\\n",
       "8442                       True  ...           0                  0   \n",
       "5934                       True  ...           1                  0   \n",
       "31281                      True  ...           0                  0   \n",
       "18393                      True  ...           0                  0   \n",
       "21544                      True  ...           0                  0   \n",
       "\n",
       "       cat__Cafes  cat__Delis  cat__Caterers  cat__Specialty Food  \\\n",
       "8442            0           0              0                    0   \n",
       "5934            0           0              0                    0   \n",
       "31281           0           0              0                    0   \n",
       "18393           0           0              0                    0   \n",
       "21544           0           0              0                    0   \n",
       "\n",
       "       cat__Bakeries  cat__Desserts rl_word_mean  rl_share_short24  \n",
       "8442               0              0     71.37500          0.208333  \n",
       "5934               0              0    106.06250          0.093750  \n",
       "31281              0              0     66.00000          0.000000  \n",
       "18393              0              0    145.42857          0.000000  \n",
       "21544              0              0     65.85714          0.142857  \n",
       "\n",
       "[5 rows x 53 columns]"
      ]
     },
     "execution_count": 15,
     "metadata": {},
     "output_type": "execute_result"
    }
   ],
   "source": [
    "# Sklearn imports for optimization\n",
    "from sklearn.model_selection import GridSearchCV\n",
    "from sklearn.model_selection import train_test_split\n",
    "\n",
    "# Partition predictors & response into training & testing sets\n",
    "X_train, X_test, y_train, y_test = train_test_split(\n",
    "    X, y_cls,\n",
    "    test_size = 0.2,   # Reserve 20% for \"hold-out\" data, \n",
    "    random_state=42\n",
    ")\n",
    "\n",
    "X_train.head(5)"
   ]
  },
  {
   "cell_type": "code",
   "execution_count": null,
   "id": "2b3012e0",
   "metadata": {},
   "outputs": [],
   "source": []
  },
  {
   "cell_type": "code",
   "execution_count": 16,
   "id": "75761e51-e0a3-479f-904c-bbcef7f25829",
   "metadata": {},
   "outputs": [],
   "source": [
    "# # ===============================================\n",
    "# # STEP 7 — Random Forest (fast search) + STEP 7B refit\n",
    "# # ===============================================\n",
    "# pipe_rf = SkPipeline([\n",
    "#     (\"preprocessor\", preprocessor),\n",
    "#     (\"clf\", RandomForestClassifier(\n",
    "#         n_estimators=400, random_state=42,\n",
    "#         class_weight=\"balanced_subsample\", n_jobs=-1\n",
    "#     )),\n",
    "# ])\n",
    "\n",
    "# param_dist_rf = {\n",
    "#     \"clf__n_estimators\": [300, 400, 600, 800],\n",
    "#     \"clf__max_depth\": [None, 10, 20, 40],\n",
    "#     \"clf__min_samples_split\": [2, 5, 10],\n",
    "#     \"clf__min_samples_leaf\": [1, 2, 4],\n",
    "#     \"clf__max_features\": [\"sqrt\", \"log2\", None, 0.3],\n",
    "# }\n",
    "\n",
    "# print(\"[RF] RandomizedSearch starting...\")\n",
    "# t0 = time.time()\n",
    "# rs_rf = RandomizedSearchCV(\n",
    "#     estimator=pipe_rf,\n",
    "#     param_distributions=param_dist_rf,\n",
    "#     n_iter=RF_N_ITER,\n",
    "#     scoring={\"f1\":\"f1\",\"roc_auc\":\"roc_auc\"},\n",
    "#     refit=\"f1\",\n",
    "#     cv=5,\n",
    "#     n_jobs=SEARCH_N_JOBS,\n",
    "#     verbose=VERBOSE,\n",
    "#     random_state=42,\n",
    "#     error_score=\"raise\"\n",
    "# )\n",
    "# rs_rf.fit(X_train, y_train)\n",
    "\n",
    "\n",
    "# best_params_rf = rs_rf.best_params_\n",
    "# pipe_rf.set_params(**best_params_rf)\n",
    "# pipe_rf.fit(X_train, y_train)\n",
    "# print(\"[RF] Refit complete.\")"
   ]
  },
  {
   "cell_type": "code",
   "execution_count": 17,
   "id": "ff508228",
   "metadata": {},
   "outputs": [
    {
     "name": "stdout",
     "output_type": "stream",
     "text": [
      "Fitting 5 folds for each of 30 candidates, totalling 150 fits\n",
      "[CV] END clf__max_depth=20, clf__max_features=log2, clf__min_samples_leaf=19, clf__min_samples_split=24, clf__n_estimators=630; total time=  13.0s\n",
      "[CV] END clf__max_depth=20, clf__max_features=log2, clf__min_samples_leaf=19, clf__min_samples_split=24, clf__n_estimators=630; total time=  12.9s\n",
      "[CV] END clf__max_depth=20, clf__max_features=log2, clf__min_samples_leaf=19, clf__min_samples_split=24, clf__n_estimators=630; total time=  13.1s\n",
      "[CV] END clf__max_depth=20, clf__max_features=log2, clf__min_samples_leaf=19, clf__min_samples_split=24, clf__n_estimators=630; total time=  13.1s\n",
      "[CV] END clf__max_depth=20, clf__max_features=log2, clf__min_samples_leaf=19, clf__min_samples_split=24, clf__n_estimators=630; total time=  13.5s\n",
      "[CV] END clf__max_depth=28, clf__max_features=0.3, clf__min_samples_leaf=15, clf__min_samples_split=44, clf__n_estimators=371; total time=  16.2s\n",
      "[CV] END clf__max_depth=28, clf__max_features=0.3, clf__min_samples_leaf=15, clf__min_samples_split=44, clf__n_estimators=371; total time=  16.2s\n",
      "[CV] END clf__max_depth=28, clf__max_features=0.3, clf__min_samples_leaf=15, clf__min_samples_split=44, clf__n_estimators=371; total time=  16.4s\n",
      "[CV] END clf__max_depth=28, clf__max_features=0.3, clf__min_samples_leaf=15, clf__min_samples_split=44, clf__n_estimators=371; total time=  16.6s\n",
      "[CV] END clf__max_depth=28, clf__max_features=0.3, clf__min_samples_leaf=15, clf__min_samples_split=44, clf__n_estimators=371; total time=  16.5s\n",
      "[CV] END clf__max_depth=32, clf__max_features=0.5, clf__min_samples_leaf=4, clf__min_samples_split=41, clf__n_estimators=963; total time= 1.4min\n",
      "[CV] END clf__max_depth=32, clf__max_features=0.5, clf__min_samples_leaf=4, clf__min_samples_split=41, clf__n_estimators=963; total time= 1.4min\n",
      "[CV] END clf__max_depth=32, clf__max_features=0.5, clf__min_samples_leaf=4, clf__min_samples_split=41, clf__n_estimators=963; total time= 1.4min\n",
      "[CV] END clf__max_depth=32, clf__max_features=0.5, clf__min_samples_leaf=4, clf__min_samples_split=41, clf__n_estimators=963; total time= 1.4min\n",
      "[CV] END clf__max_depth=32, clf__max_features=0.5, clf__min_samples_leaf=4, clf__min_samples_split=41, clf__n_estimators=963; total time= 1.4min\n",
      "[CV] END clf__max_depth=12, clf__max_features=0.8, clf__min_samples_leaf=2, clf__min_samples_split=25, clf__n_estimators=791; total time= 1.5min\n",
      "[CV] END clf__max_depth=12, clf__max_features=0.8, clf__min_samples_leaf=2, clf__min_samples_split=25, clf__n_estimators=791; total time= 1.5min\n",
      "[CV] END clf__max_depth=12, clf__max_features=0.8, clf__min_samples_leaf=2, clf__min_samples_split=25, clf__n_estimators=791; total time= 1.6min\n",
      "[CV] END clf__max_depth=12, clf__max_features=0.8, clf__min_samples_leaf=2, clf__min_samples_split=25, clf__n_estimators=791; total time= 1.6min\n",
      "[CV] END clf__max_depth=12, clf__max_features=0.8, clf__min_samples_leaf=2, clf__min_samples_split=25, clf__n_estimators=791; total time= 1.6min\n",
      "[CV] END clf__max_depth=24, clf__max_features=log2, clf__min_samples_leaf=1, clf__min_samples_split=13, clf__n_estimators=613; total time=  19.0s\n",
      "[CV] END clf__max_depth=24, clf__max_features=log2, clf__min_samples_leaf=1, clf__min_samples_split=13, clf__n_estimators=613; total time=  18.6s\n",
      "[CV] END clf__max_depth=24, clf__max_features=log2, clf__min_samples_leaf=1, clf__min_samples_split=13, clf__n_estimators=613; total time=  19.1s\n",
      "[CV] END clf__max_depth=24, clf__max_features=log2, clf__min_samples_leaf=1, clf__min_samples_split=13, clf__n_estimators=613; total time=  18.9s\n",
      "[CV] END clf__max_depth=24, clf__max_features=log2, clf__min_samples_leaf=1, clf__min_samples_split=13, clf__n_estimators=613; total time=  19.3s\n",
      "[CV] END clf__max_depth=40, clf__max_features=0.3, clf__min_samples_leaf=16, clf__min_samples_split=16, clf__n_estimators=489; total time=  27.9s\n",
      "[CV] END clf__max_depth=40, clf__max_features=0.3, clf__min_samples_leaf=16, clf__min_samples_split=16, clf__n_estimators=489; total time=  27.7s\n",
      "[CV] END clf__max_depth=40, clf__max_features=0.3, clf__min_samples_leaf=16, clf__min_samples_split=16, clf__n_estimators=489; total time=  28.3s\n",
      "[CV] END clf__max_depth=40, clf__max_features=0.3, clf__min_samples_leaf=16, clf__min_samples_split=16, clf__n_estimators=489; total time=  28.1s\n",
      "[CV] END clf__max_depth=40, clf__max_features=0.3, clf__min_samples_leaf=16, clf__min_samples_split=16, clf__n_estimators=489; total time=  28.5s\n",
      "[CV] END clf__max_depth=12, clf__max_features=0.3, clf__min_samples_leaf=20, clf__min_samples_split=4, clf__n_estimators=784; total time=  42.7s\n",
      "[CV] END clf__max_depth=24, clf__max_features=0.5, clf__min_samples_leaf=12, clf__min_samples_split=26, clf__n_estimators=860; total time= 1.3min\n",
      "[CV] END clf__max_depth=24, clf__max_features=0.5, clf__min_samples_leaf=12, clf__min_samples_split=26, clf__n_estimators=860; total time= 1.3min\n",
      "[CV] END clf__max_depth=12, clf__max_features=0.3, clf__min_samples_leaf=20, clf__min_samples_split=4, clf__n_estimators=784; total time=  42.3s\n",
      "[CV] END clf__max_depth=12, clf__max_features=0.3, clf__min_samples_leaf=20, clf__min_samples_split=4, clf__n_estimators=784; total time=  42.8s\n",
      "[CV] END clf__max_depth=12, clf__max_features=0.3, clf__min_samples_leaf=20, clf__min_samples_split=4, clf__n_estimators=784; total time=  43.3s\n",
      "[CV] END clf__max_depth=12, clf__max_features=0.3, clf__min_samples_leaf=20, clf__min_samples_split=4, clf__n_estimators=784; total time=  42.7s\n",
      "[CV] END clf__max_depth=24, clf__max_features=0.5, clf__min_samples_leaf=12, clf__min_samples_split=26, clf__n_estimators=860; total time= 1.3min\n",
      "[CV] END clf__max_depth=24, clf__max_features=0.5, clf__min_samples_leaf=12, clf__min_samples_split=26, clf__n_estimators=860; total time= 1.3min\n",
      "[CV] END clf__max_depth=24, clf__max_features=0.5, clf__min_samples_leaf=12, clf__min_samples_split=26, clf__n_estimators=860; total time= 1.3min\n",
      "[CV] END clf__max_depth=16, clf__max_features=sqrt, clf__min_samples_leaf=14, clf__min_samples_split=10, clf__n_estimators=645; total time=  20.7s\n",
      "[CV] END clf__max_depth=16, clf__max_features=sqrt, clf__min_samples_leaf=14, clf__min_samples_split=10, clf__n_estimators=645; total time=  20.8s\n",
      "[CV] END clf__max_depth=16, clf__max_features=sqrt, clf__min_samples_leaf=14, clf__min_samples_split=10, clf__n_estimators=645; total time=  21.7s\n",
      "[CV] END clf__max_depth=16, clf__max_features=sqrt, clf__min_samples_leaf=14, clf__min_samples_split=10, clf__n_estimators=645; total time=  22.0s\n",
      "[CV] END clf__max_depth=16, clf__max_features=sqrt, clf__min_samples_leaf=14, clf__min_samples_split=10, clf__n_estimators=645; total time=  22.3s\n",
      "[CV] END clf__max_depth=20, clf__max_features=log2, clf__min_samples_leaf=20, clf__min_samples_split=29, clf__n_estimators=666; total time=  18.9s\n",
      "[CV] END clf__max_depth=20, clf__max_features=log2, clf__min_samples_leaf=20, clf__min_samples_split=29, clf__n_estimators=666; total time=  19.2s\n",
      "[CV] END clf__max_depth=20, clf__max_features=log2, clf__min_samples_leaf=20, clf__min_samples_split=29, clf__n_estimators=666; total time=  18.9s\n",
      "[CV] END clf__max_depth=20, clf__max_features=log2, clf__min_samples_leaf=20, clf__min_samples_split=29, clf__n_estimators=666; total time=  19.0s\n",
      "[CV] END clf__max_depth=20, clf__max_features=log2, clf__min_samples_leaf=20, clf__min_samples_split=29, clf__n_estimators=666; total time=  19.2s\n",
      "[CV] END clf__max_depth=12, clf__max_features=0.5, clf__min_samples_leaf=9, clf__min_samples_split=40, clf__n_estimators=573; total time=  48.7s\n",
      "[CV] END clf__max_depth=12, clf__max_features=0.5, clf__min_samples_leaf=9, clf__min_samples_split=40, clf__n_estimators=573; total time=  49.4s\n",
      "[CV] END clf__max_depth=12, clf__max_features=0.5, clf__min_samples_leaf=9, clf__min_samples_split=40, clf__n_estimators=573; total time=  49.5s\n",
      "[CV] END clf__max_depth=12, clf__max_features=0.5, clf__min_samples_leaf=9, clf__min_samples_split=40, clf__n_estimators=573; total time=  49.2s\n",
      "[CV] END clf__max_depth=12, clf__max_features=0.5, clf__min_samples_leaf=9, clf__min_samples_split=40, clf__n_estimators=573; total time=  49.4s\n",
      "[CV] END clf__max_depth=28, clf__max_features=0.3, clf__min_samples_leaf=8, clf__min_samples_split=48, clf__n_estimators=334; total time=  22.3s\n",
      "[CV] END clf__max_depth=28, clf__max_features=0.3, clf__min_samples_leaf=8, clf__min_samples_split=48, clf__n_estimators=334; total time=  22.7s\n",
      "[CV] END clf__max_depth=28, clf__max_features=0.3, clf__min_samples_leaf=8, clf__min_samples_split=48, clf__n_estimators=334; total time=  22.1s\n",
      "[CV] END clf__max_depth=28, clf__max_features=0.3, clf__min_samples_leaf=8, clf__min_samples_split=48, clf__n_estimators=334; total time=  22.0s\n",
      "[CV] END clf__max_depth=28, clf__max_features=0.3, clf__min_samples_leaf=8, clf__min_samples_split=48, clf__n_estimators=334; total time=  22.0s\n",
      "[CV] END clf__max_depth=None, clf__max_features=0.3, clf__min_samples_leaf=18, clf__min_samples_split=41, clf__n_estimators=687; total time=  45.2s\n",
      "[CV] END clf__max_depth=None, clf__max_features=0.3, clf__min_samples_leaf=18, clf__min_samples_split=41, clf__n_estimators=687; total time=  45.1s\n",
      "[CV] END clf__max_depth=None, clf__max_features=0.3, clf__min_samples_leaf=18, clf__min_samples_split=41, clf__n_estimators=687; total time=  45.6s\n",
      "[CV] END clf__max_depth=None, clf__max_features=0.3, clf__min_samples_leaf=18, clf__min_samples_split=41, clf__n_estimators=687; total time=  45.7s\n",
      "[CV] END clf__max_depth=None, clf__max_features=0.3, clf__min_samples_leaf=18, clf__min_samples_split=41, clf__n_estimators=687; total time=  45.5s\n",
      "[CV] END clf__max_depth=8, clf__max_features=log2, clf__min_samples_leaf=12, clf__min_samples_split=35, clf__n_estimators=501; total time=  13.7s\n",
      "[CV] END clf__max_depth=8, clf__max_features=log2, clf__min_samples_leaf=12, clf__min_samples_split=35, clf__n_estimators=501; total time=  14.4s\n",
      "[CV] END clf__max_depth=8, clf__max_features=log2, clf__min_samples_leaf=12, clf__min_samples_split=35, clf__n_estimators=501; total time=  13.7s\n",
      "[CV] END clf__max_depth=8, clf__max_features=log2, clf__min_samples_leaf=12, clf__min_samples_split=35, clf__n_estimators=501; total time=  14.0s\n",
      "[CV] END clf__max_depth=8, clf__max_features=log2, clf__min_samples_leaf=12, clf__min_samples_split=35, clf__n_estimators=501; total time=  14.1s\n",
      "[CV] END clf__max_depth=8, clf__max_features=0.8, clf__min_samples_leaf=6, clf__min_samples_split=43, clf__n_estimators=776; total time= 1.5min\n",
      "[CV] END clf__max_depth=8, clf__max_features=0.8, clf__min_samples_leaf=6, clf__min_samples_split=43, clf__n_estimators=776; total time= 1.5min\n",
      "[CV] END clf__max_depth=8, clf__max_features=0.8, clf__min_samples_leaf=6, clf__min_samples_split=43, clf__n_estimators=776; total time= 1.5min\n",
      "[CV] END clf__max_depth=8, clf__max_features=0.8, clf__min_samples_leaf=6, clf__min_samples_split=43, clf__n_estimators=776; total time= 1.5min\n",
      "[CV] END clf__max_depth=8, clf__max_features=0.8, clf__min_samples_leaf=6, clf__min_samples_split=43, clf__n_estimators=776; total time= 1.5min\n",
      "[CV] END clf__max_depth=28, clf__max_features=0.3, clf__min_samples_leaf=8, clf__min_samples_split=22, clf__n_estimators=637; total time=  52.3s\n",
      "[CV] END clf__max_depth=28, clf__max_features=0.3, clf__min_samples_leaf=8, clf__min_samples_split=22, clf__n_estimators=637; total time=  52.5s\n",
      "[CV] END clf__max_depth=28, clf__max_features=0.3, clf__min_samples_leaf=8, clf__min_samples_split=22, clf__n_estimators=637; total time=  52.7s\n",
      "[CV] END clf__max_depth=28, clf__max_features=0.3, clf__min_samples_leaf=8, clf__min_samples_split=22, clf__n_estimators=637; total time=  52.4s\n",
      "[CV] END clf__max_depth=28, clf__max_features=0.3, clf__min_samples_leaf=8, clf__min_samples_split=22, clf__n_estimators=637; total time=  52.1s\n",
      "[CV] END clf__max_depth=20, clf__max_features=log2, clf__min_samples_leaf=13, clf__min_samples_split=42, clf__n_estimators=456; total time=  16.2s\n",
      "[CV] END clf__max_depth=20, clf__max_features=log2, clf__min_samples_leaf=13, clf__min_samples_split=42, clf__n_estimators=456; total time=  16.7s\n",
      "[CV] END clf__max_depth=20, clf__max_features=log2, clf__min_samples_leaf=13, clf__min_samples_split=42, clf__n_estimators=456; total time=  16.4s\n",
      "[CV] END clf__max_depth=20, clf__max_features=log2, clf__min_samples_leaf=13, clf__min_samples_split=42, clf__n_estimators=456; total time=  16.6s\n",
      "[CV] END clf__max_depth=20, clf__max_features=log2, clf__min_samples_leaf=13, clf__min_samples_split=42, clf__n_estimators=456; total time=  16.6s\n",
      "[CV] END clf__max_depth=16, clf__max_features=0.8, clf__min_samples_leaf=16, clf__min_samples_split=16, clf__n_estimators=755; total time= 2.1min\n",
      "[CV] END clf__max_depth=16, clf__max_features=0.8, clf__min_samples_leaf=16, clf__min_samples_split=16, clf__n_estimators=755; total time= 2.1min\n",
      "[CV] END clf__max_depth=16, clf__max_features=0.8, clf__min_samples_leaf=16, clf__min_samples_split=16, clf__n_estimators=755; total time= 2.1min\n",
      "[CV] END clf__max_depth=16, clf__max_features=0.8, clf__min_samples_leaf=16, clf__min_samples_split=16, clf__n_estimators=755; total time= 2.1min\n",
      "[CV] END clf__max_depth=16, clf__max_features=0.8, clf__min_samples_leaf=16, clf__min_samples_split=16, clf__n_estimators=755; total time= 2.1min\n",
      "[CV] END clf__max_depth=None, clf__max_features=sqrt, clf__min_samples_leaf=7, clf__min_samples_split=10, clf__n_estimators=643; total time=  30.9s\n",
      "[CV] END clf__max_depth=None, clf__max_features=sqrt, clf__min_samples_leaf=7, clf__min_samples_split=10, clf__n_estimators=643; total time=  31.2s\n",
      "[CV] END clf__max_depth=None, clf__max_features=sqrt, clf__min_samples_leaf=7, clf__min_samples_split=10, clf__n_estimators=643; total time=  30.6s\n",
      "[CV] END clf__max_depth=None, clf__max_features=sqrt, clf__min_samples_leaf=7, clf__min_samples_split=10, clf__n_estimators=643; total time=  30.9s\n",
      "[CV] END clf__max_depth=None, clf__max_features=sqrt, clf__min_samples_leaf=7, clf__min_samples_split=10, clf__n_estimators=643; total time=  31.2s\n",
      "[CV] END clf__max_depth=None, clf__max_features=0.3, clf__min_samples_leaf=8, clf__min_samples_split=25, clf__n_estimators=362; total time=  30.3s\n",
      "[CV] END clf__max_depth=None, clf__max_features=0.3, clf__min_samples_leaf=8, clf__min_samples_split=25, clf__n_estimators=362; total time=  30.1s\n",
      "[CV] END clf__max_depth=None, clf__max_features=0.3, clf__min_samples_leaf=8, clf__min_samples_split=25, clf__n_estimators=362; total time=  30.2s\n",
      "[CV] END clf__max_depth=None, clf__max_features=0.3, clf__min_samples_leaf=8, clf__min_samples_split=25, clf__n_estimators=362; total time=  30.2s\n",
      "[CV] END clf__max_depth=None, clf__max_features=0.3, clf__min_samples_leaf=8, clf__min_samples_split=25, clf__n_estimators=362; total time=  30.4s\n",
      "[CV] END clf__max_depth=12, clf__max_features=sqrt, clf__min_samples_leaf=8, clf__min_samples_split=36, clf__n_estimators=718; total time=  26.4s\n",
      "[CV] END clf__max_depth=12, clf__max_features=sqrt, clf__min_samples_leaf=8, clf__min_samples_split=36, clf__n_estimators=718; total time=  26.1s\n",
      "[CV] END clf__max_depth=12, clf__max_features=sqrt, clf__min_samples_leaf=8, clf__min_samples_split=36, clf__n_estimators=718; total time=  26.1s\n",
      "[CV] END clf__max_depth=12, clf__max_features=sqrt, clf__min_samples_leaf=8, clf__min_samples_split=36, clf__n_estimators=718; total time=  25.9s\n",
      "[CV] END clf__max_depth=12, clf__max_features=sqrt, clf__min_samples_leaf=8, clf__min_samples_split=36, clf__n_estimators=718; total time=  26.1s\n",
      "[CV] END clf__max_depth=40, clf__max_features=sqrt, clf__min_samples_leaf=7, clf__min_samples_split=10, clf__n_estimators=332; total time=  16.3s\n",
      "[CV] END clf__max_depth=40, clf__max_features=sqrt, clf__min_samples_leaf=7, clf__min_samples_split=10, clf__n_estimators=332; total time=  16.3s\n",
      "[CV] END clf__max_depth=40, clf__max_features=sqrt, clf__min_samples_leaf=7, clf__min_samples_split=10, clf__n_estimators=332; total time=  16.4s\n",
      "[CV] END clf__max_depth=40, clf__max_features=sqrt, clf__min_samples_leaf=7, clf__min_samples_split=10, clf__n_estimators=332; total time=  16.5s\n",
      "[CV] END clf__max_depth=40, clf__max_features=sqrt, clf__min_samples_leaf=7, clf__min_samples_split=10, clf__n_estimators=332; total time=  16.5s\n",
      "[CV] END clf__max_depth=None, clf__max_features=None, clf__min_samples_leaf=5, clf__min_samples_split=43, clf__n_estimators=530; total time= 2.0min\n",
      "[CV] END clf__max_depth=None, clf__max_features=None, clf__min_samples_leaf=5, clf__min_samples_split=43, clf__n_estimators=530; total time= 2.0min\n",
      "[CV] END clf__max_depth=None, clf__max_features=None, clf__min_samples_leaf=5, clf__min_samples_split=43, clf__n_estimators=530; total time= 2.0min\n",
      "[CV] END clf__max_depth=None, clf__max_features=None, clf__min_samples_leaf=5, clf__min_samples_split=43, clf__n_estimators=530; total time= 2.0min\n",
      "[CV] END clf__max_depth=None, clf__max_features=None, clf__min_samples_leaf=5, clf__min_samples_split=43, clf__n_estimators=530; total time= 2.0min\n",
      "[CV] END clf__max_depth=28, clf__max_features=0.8, clf__min_samples_leaf=5, clf__min_samples_split=36, clf__n_estimators=983; total time= 3.0min\n",
      "[CV] END clf__max_depth=28, clf__max_features=0.8, clf__min_samples_leaf=5, clf__min_samples_split=36, clf__n_estimators=983; total time= 3.0min\n",
      "[CV] END clf__max_depth=28, clf__max_features=0.8, clf__min_samples_leaf=5, clf__min_samples_split=36, clf__n_estimators=983; total time= 3.0min\n",
      "[CV] END clf__max_depth=28, clf__max_features=0.8, clf__min_samples_leaf=5, clf__min_samples_split=36, clf__n_estimators=983; total time= 3.0min\n",
      "[CV] END clf__max_depth=28, clf__max_features=0.8, clf__min_samples_leaf=5, clf__min_samples_split=36, clf__n_estimators=983; total time= 3.0min\n",
      "[CV] END clf__max_depth=12, clf__max_features=sqrt, clf__min_samples_leaf=5, clf__min_samples_split=27, clf__n_estimators=802; total time=  26.7s\n",
      "[CV] END clf__max_depth=12, clf__max_features=sqrt, clf__min_samples_leaf=5, clf__min_samples_split=27, clf__n_estimators=802; total time=  26.8s\n",
      "[CV] END clf__max_depth=12, clf__max_features=sqrt, clf__min_samples_leaf=5, clf__min_samples_split=27, clf__n_estimators=802; total time=  27.1s\n",
      "[CV] END clf__max_depth=12, clf__max_features=sqrt, clf__min_samples_leaf=5, clf__min_samples_split=27, clf__n_estimators=802; total time=  27.4s\n",
      "[CV] END clf__max_depth=12, clf__max_features=sqrt, clf__min_samples_leaf=5, clf__min_samples_split=27, clf__n_estimators=802; total time=  27.8s\n",
      "[CV] END clf__max_depth=32, clf__max_features=0.8, clf__min_samples_leaf=3, clf__min_samples_split=2, clf__n_estimators=912; total time= 3.0min\n",
      "[CV] END clf__max_depth=32, clf__max_features=0.8, clf__min_samples_leaf=3, clf__min_samples_split=2, clf__n_estimators=912; total time= 3.0min\n",
      "[CV] END clf__max_depth=32, clf__max_features=0.8, clf__min_samples_leaf=3, clf__min_samples_split=2, clf__n_estimators=912; total time= 3.0min\n",
      "[CV] END clf__max_depth=32, clf__max_features=0.8, clf__min_samples_leaf=3, clf__min_samples_split=2, clf__n_estimators=912; total time= 3.0min\n",
      "[CV] END clf__max_depth=28, clf__max_features=None, clf__min_samples_leaf=9, clf__min_samples_split=16, clf__n_estimators=314; total time= 1.1min\n",
      "[CV] END clf__max_depth=28, clf__max_features=None, clf__min_samples_leaf=9, clf__min_samples_split=16, clf__n_estimators=314; total time= 1.1min\n",
      "[CV] END clf__max_depth=32, clf__max_features=0.8, clf__min_samples_leaf=3, clf__min_samples_split=2, clf__n_estimators=912; total time= 3.0min\n",
      "[CV] END clf__max_depth=28, clf__max_features=None, clf__min_samples_leaf=9, clf__min_samples_split=16, clf__n_estimators=314; total time= 1.1min\n",
      "[CV] END clf__max_depth=28, clf__max_features=None, clf__min_samples_leaf=9, clf__min_samples_split=16, clf__n_estimators=314; total time= 1.1min\n",
      "[CV] END clf__max_depth=28, clf__max_features=None, clf__min_samples_leaf=9, clf__min_samples_split=16, clf__n_estimators=314; total time= 1.1min\n",
      "[CV] END clf__max_depth=40, clf__max_features=log2, clf__min_samples_leaf=13, clf__min_samples_split=33, clf__n_estimators=540; total time=  16.0s\n",
      "[CV] END clf__max_depth=40, clf__max_features=log2, clf__min_samples_leaf=13, clf__min_samples_split=33, clf__n_estimators=540; total time=  16.0s\n",
      "[CV] END clf__max_depth=40, clf__max_features=log2, clf__min_samples_leaf=13, clf__min_samples_split=33, clf__n_estimators=540; total time=  15.9s\n",
      "[CV] END clf__max_depth=40, clf__max_features=log2, clf__min_samples_leaf=13, clf__min_samples_split=33, clf__n_estimators=540; total time=  16.1s\n",
      "[CV] END clf__max_depth=40, clf__max_features=log2, clf__min_samples_leaf=13, clf__min_samples_split=33, clf__n_estimators=540; total time=  16.4s\n",
      "[CV] END clf__max_depth=16, clf__max_features=0.5, clf__min_samples_leaf=4, clf__min_samples_split=31, clf__n_estimators=784; total time= 1.4min\n",
      "[CV] END clf__max_depth=16, clf__max_features=0.5, clf__min_samples_leaf=4, clf__min_samples_split=31, clf__n_estimators=784; total time= 1.4min\n",
      "[CV] END clf__max_depth=16, clf__max_features=0.5, clf__min_samples_leaf=4, clf__min_samples_split=31, clf__n_estimators=784; total time= 1.4min\n",
      "[CV] END clf__max_depth=16, clf__max_features=0.5, clf__min_samples_leaf=4, clf__min_samples_split=31, clf__n_estimators=784; total time= 1.4min\n",
      "[CV] END clf__max_depth=16, clf__max_features=0.5, clf__min_samples_leaf=4, clf__min_samples_split=31, clf__n_estimators=784; total time= 1.4min\n",
      "[CV] END clf__max_depth=28, clf__max_features=0.5, clf__min_samples_leaf=15, clf__min_samples_split=44, clf__n_estimators=840; total time= 1.3min\n",
      "[CV] END clf__max_depth=28, clf__max_features=0.5, clf__min_samples_leaf=15, clf__min_samples_split=44, clf__n_estimators=840; total time= 1.3min\n",
      "[CV] END clf__max_depth=28, clf__max_features=0.5, clf__min_samples_leaf=15, clf__min_samples_split=44, clf__n_estimators=840; total time= 1.3min\n",
      "[CV] END clf__max_depth=28, clf__max_features=0.5, clf__min_samples_leaf=15, clf__min_samples_split=44, clf__n_estimators=840; total time= 1.3min\n",
      "[CV] END clf__max_depth=28, clf__max_features=0.5, clf__min_samples_leaf=15, clf__min_samples_split=44, clf__n_estimators=840; total time= 1.3min\n",
      "Best params (CV by ROC AUC): {'clf__max_depth': 24, 'clf__max_features': 'log2', 'clf__min_samples_leaf': 1, 'clf__min_samples_split': 13, 'clf__n_estimators': 613}\n",
      "Best CV ROC AUC: 0.7978\n",
      "Best CV F1:      0.6598\n",
      "Best CV Acc:     0.7234\n",
      "Search elapsed:  858.5s\n"
     ]
    }
   ],
   "source": [
    "# --- Imports ---\n",
    "import time\n",
    "import numpy as np\n",
    "from scipy.stats import randint  # distributions for RandomizedSearchCV\n",
    "from sklearn.model_selection import RandomizedSearchCV, StratifiedKFold\n",
    "from sklearn.pipeline import Pipeline as SkPipeline\n",
    "from sklearn.ensemble import RandomForestClassifier\n",
    "from sklearn.metrics import (\n",
    "    f1_score, roc_auc_score, accuracy_score,\n",
    "    confusion_matrix, classification_report\n",
    ")\n",
    "from mlflow.models.signature import infer_signature\n",
    "import mlflow\n",
    "\n",
    "# --- Pipeline (step name 'clf' matches param keys below) ---\n",
    "pipe_rf = SkPipeline([\n",
    "    (\"preprocessor\", preprocessor),  # your fitted ColumnTransformer\n",
    "    (\"clf\", RandomForestClassifier(\n",
    "        n_estimators=400,            # will be overridden by search\n",
    "        random_state=42,\n",
    "        n_jobs=-1,\n",
    "        class_weight=\"balanced_subsample\"\n",
    "    )),\n",
    "])\n",
    "\n",
    "# --- Search space (wide but sensible) ---\n",
    "param_dist_rf = {\n",
    "    \"clf__n_estimators\": randint(300, 1001),              # 300–1000\n",
    "    \"clf__max_depth\": [None] + list(range(8, 41, 4)),     # None or 8..40\n",
    "    \"clf__min_samples_split\": randint(2, 51),             # 2..50\n",
    "    \"clf__min_samples_leaf\": randint(1, 21),              # 1..20\n",
    "    # categorical choices or numeric fractions in (0,1]\n",
    "    \"clf__max_features\": [\"sqrt\", \"log2\", None, 0.3, 0.5, 0.8],\n",
    "}\n",
    "\n",
    "cv = StratifiedKFold(n_splits=5, shuffle=True, random_state=42)\n",
    "\n",
    "rs_rf = RandomizedSearchCV(\n",
    "    estimator=pipe_rf,\n",
    "    param_distributions=param_dist_rf,\n",
    "    n_iter=30,  # bump up if you have time\n",
    "    scoring={\"roc_auc\": \"roc_auc\", \"f1\": \"f1\", \"accuracy\": \"accuracy\"},\n",
    "    refit=\"roc_auc\",      # choose by ROC AUC\n",
    "    cv=cv,\n",
    "    n_jobs=-1,\n",
    "    verbose=2,\n",
    "    random_state=42\n",
    ")\n",
    "\n",
    "# --- Run the search ONCE and time it ---\n",
    "t0 = time.time()\n",
    "rs_rf.fit(X_train, y_train)\n",
    "elapsed = time.time() - t0\n",
    "\n",
    "# --- Extract best params + CV metrics ---\n",
    "best_index  = rs_rf.best_index_\n",
    "best_params = rs_rf.best_params_\n",
    "best_cv_auc = float(rs_rf.best_score_)  # because refit=\"roc_auc\"\n",
    "best_cv_f1  = float(rs_rf.cv_results_[\"mean_test_f1\"][best_index])\n",
    "best_cv_acc = float(rs_rf.cv_results_[\"mean_test_accuracy\"][best_index])\n",
    "\n",
    "print(\"Best params (CV by ROC AUC):\", best_params)\n",
    "print(f\"Best CV ROC AUC: {best_cv_auc:.4f}\")\n",
    "print(f\"Best CV F1:      {best_cv_f1:.4f}\")\n",
    "print(f\"Best CV Acc:     {best_cv_acc:.4f}\")\n",
    "print(f\"Search elapsed:  {elapsed:.1f}s\")"
   ]
  },
  {
   "cell_type": "code",
   "execution_count": 18,
   "id": "ac44c4b3",
   "metadata": {},
   "outputs": [],
   "source": [
    "import mlflow"
   ]
  },
  {
   "cell_type": "code",
   "execution_count": 19,
   "id": "decd707c",
   "metadata": {},
   "outputs": [
    {
     "name": "stdout",
     "output_type": "stream",
     "text": [
      "\n",
      "=== RandomForest (test set) ===\n",
      "Accuracy:  0.713 | F1: 0.647 | ROC-AUC: 0.788\n",
      "Confusion matrix (TN FP / FN TP):\n",
      " [[3264 1247]\n",
      " [ 834 1908]]\n",
      "\n",
      "              precision    recall  f1-score   support\n",
      "\n",
      "           0      0.796     0.724     0.758      4511\n",
      "           1      0.605     0.696     0.647      2742\n",
      "\n",
      "    accuracy                          0.713      7253\n",
      "   macro avg      0.701     0.710     0.703      7253\n",
      "weighted avg      0.724     0.713     0.716      7253\n",
      "\n"
     ]
    },
    {
     "name": "stderr",
     "output_type": "stream",
     "text": [
      "/opt/anaconda3/envs/yelp_env/lib/python3.11/site-packages/mlflow/types/utils.py:452: UserWarning: Hint: Inferred schema contains integer column(s). Integer columns in Python cannot represent missing values. If your input data contains missing values at inference time, it will be encoded as floats and will cause a schema enforcement error. The best way to avoid this problem is to infer the model schema based on a realistic data sample (training dataset) that includes missing values. Alternatively, you can declare integer columns as doubles (float64) whenever these columns may have missing values. See `Handling Integers With Missing Values <https://www.mlflow.org/docs/latest/models.html#handling-integers-with-missing-values>`_ for more details.\n",
      "  warnings.warn(\n",
      "2025/10/08 21:16:39 WARNING mlflow.models.model: `artifact_path` is deprecated. Please use `name` instead.\n"
     ]
    },
    {
     "name": "stdout",
     "output_type": "stream",
     "text": [
      "🏃 View run randomforest_randomsearch at: http://127.0.0.1:5000/#/experiments/786926549055850120/runs/6b4809b74a114ada97ce822d33c5c195\n",
      "🧪 View experiment at: http://127.0.0.1:5000/#/experiments/786926549055850120\n",
      "\n",
      "Summary\n",
      "Best params: {'clf__max_depth': 24, 'clf__max_features': 'log2', 'clf__min_samples_leaf': 1, 'clf__min_samples_split': 13, 'clf__n_estimators': 613}\n",
      "Best CV AUC: 0.7977969926195121\n",
      "Test metrics: {'test_auc': 0.7875512504404099, 'test_f1': 0.6471086993386468, 'test_accuracy': 0.7130842410037226, 'cv_best_auc': 0.7977969926195121, 'cv_best_f1': 0.659838646436876, 'cv_best_accuracy': 0.7233521470254893, 'search_seconds': 858.4823400974274}\n",
      "Test ROC AUC (unseen data): 0.7876\n"
     ]
    }
   ],
   "source": [
    "# --- Evaluate the refit best estimator on the holdout set ---\n",
    "best_rf  = rs_rf.best_estimator_           # already refit on full train\n",
    "y_proba  = best_rf.predict_proba(X_test)[:, 1]\n",
    "y_pred   = best_rf.predict(X_test)\n",
    "\n",
    "test_auc = float(roc_auc_score(y_test, y_proba))\n",
    "test_f1  = float(f1_score(y_test, y_pred))\n",
    "test_acc = float(accuracy_score(y_test, y_pred))\n",
    "\n",
    "cm = confusion_matrix(y_test, y_pred)\n",
    "print(\"\\n=== RandomForest (test set) ===\")\n",
    "print(f\"Accuracy:  {test_acc:.3f} | F1: {test_f1:.3f} | ROC-AUC: {test_auc:.3f}\")\n",
    "print(\"Confusion matrix (TN FP / FN TP):\\n\", cm)\n",
    "print(\"\\n\" + classification_report(y_test, y_pred, digits=3))\n",
    "\n",
    "# --- Package metrics for logging ---\n",
    "metrics = {\n",
    "    \"test_auc\": test_auc,\n",
    "    \"test_f1\": test_f1,\n",
    "    \"test_accuracy\": test_acc,\n",
    "    # extras (handy for comparing runs)\n",
    "    \"cv_best_auc\": best_cv_auc,\n",
    "    \"cv_best_f1\": best_cv_f1,\n",
    "    \"cv_best_accuracy\": best_cv_acc,\n",
    "    \"search_seconds\": float(elapsed),\n",
    "}\n",
    "\n",
    "# --- Log to MLflow ---\n",
    "with mlflow.start_run(run_name=\"randomforest_randomsearch\"):\n",
    "    # Log best params (clf__* keys match your search space)\n",
    "    mlflow.log_params(best_params)\n",
    "\n",
    "    # Log metrics\n",
    "    for k, v in metrics.items():\n",
    "        mlflow.log_metric(k, v)\n",
    "\n",
    "    # Log the fitted pipeline as \"model\"\n",
    "    signature = infer_signature(X_test, y_pred)  # input -> predicted labels\n",
    "    mlflow.sklearn.log_model(best_rf, \"model\", signature=signature)\n",
    "\n",
    "print(\"\\nSummary\")\n",
    "print(\"Best params:\", best_params)\n",
    "print(\"Best CV AUC:\", best_cv_auc)\n",
    "print(\"Test metrics:\", metrics)\n",
    "print(f\"Test ROC AUC (unseen data): {metrics['test_auc']:.4f}\")\n"
   ]
  },
  {
   "cell_type": "code",
   "execution_count": 20,
   "id": "ea74dace",
   "metadata": {},
   "outputs": [
    {
     "name": "stdout",
     "output_type": "stream",
     "text": [
      "Requirement already satisfied: plotly in /opt/anaconda3/envs/yelp_env/lib/python3.11/site-packages (6.3.1)\n",
      "Requirement already satisfied: narwhals>=1.15.1 in /opt/anaconda3/envs/yelp_env/lib/python3.11/site-packages (from plotly) (2.7.0)\n",
      "Requirement already satisfied: packaging in /opt/anaconda3/envs/yelp_env/lib/python3.11/site-packages (from plotly) (25.0)\n"
     ]
    }
   ],
   "source": [
    "import sys, subprocess\n",
    "subprocess.check_call([sys.executable, \"-m\", \"pip\", \"install\", \"-U\", \"plotly\"])\n",
    "\n",
    "import plotly.graph_objects as go\n"
   ]
  },
  {
   "cell_type": "code",
   "execution_count": 21,
   "id": "9b4e9bdb-6485-4d0b-8102-62f357f707ac",
   "metadata": {},
   "outputs": [],
   "source": [
    "import numpy as np, pandas as pd\n",
    "import plotly.graph_objects as go\n",
    "\n",
    "res = pd.DataFrame(rs_rf.cv_results_)[\n",
    "    [\"param_clf__n_estimators\", \"param_clf__max_features\", \"mean_test_roc_auc\"]\n",
    "].copy()\n",
    "\n",
    "# Clean types / labels\n",
    "res[\"n_estimators\"] = res[\"param_clf__n_estimators\"].astype(int)\n",
    "res[\"max_features_label\"] = res[\"param_clf__max_features\"].apply(lambda v: \"None\" if v is None else str(v))\n",
    "\n",
    "# Pivot to 2D grid (rows = max_features, cols = n_estimators)\n",
    "pivot = res.pivot_table(index=\"max_features_label\", columns=\"n_estimators\",\n",
    "                        values=\"mean_test_roc_auc\", aggfunc=\"mean\")\n",
    "\n",
    "x = pivot.columns.to_list()         # n_estimators\n",
    "y_labels = pivot.index.to_list()    # max_features categories\n",
    "z = pivot.values                    # ROC AUC matrix (NaNs possible if combos not sampled)\n"
   ]
  },
  {
   "cell_type": "code",
   "execution_count": 22,
   "id": "f401e20c",
   "metadata": {},
   "outputs": [
    {
     "data": {
      "application/vnd.plotly.v1+json": {
       "config": {
        "plotlyServerURL": "https://plot.ly"
       },
       "data": [
        {
         "colorbar": {
          "title": {
           "text": "CV ROC AUC"
          }
         },
         "type": "heatmap",
         "x": [
          314,
          332,
          334,
          362,
          371,
          456,
          489,
          501,
          530,
          540,
          573,
          613,
          630,
          637,
          643,
          645,
          666,
          687,
          718,
          755,
          776,
          784,
          791,
          802,
          840,
          860,
          912,
          963,
          983
         ],
         "y": [
          "0.3",
          "0.5",
          "0.8",
          "None",
          "log2",
          "sqrt"
         ],
         "z": {
          "bdata": "AAAAAAAA+H8AAAAAAAD4f5Ui5GzkUuk/6jSVeGhZ6T8Hep7ROEjpPwAAAAAAAPh/tus1RkpH6T8AAAAAAAD4fwAAAAAAAPh/AAAAAAAA+H8AAAAAAAD4fwAAAAAAAPh/AAAAAAAA+H/tx32FMV3pPwAAAAAAAPh/AAAAAAAA+H8AAAAAAAD4f5m8cl1iQuk/AAAAAAAA+H8AAAAAAAD4fwAAAAAAAPh/VyP9kFkv6T8AAAAAAAD4fwAAAAAAAPh/AAAAAAAA+H8AAAAAAAD4fwAAAAAAAPh/AAAAAAAA+H8AAAAAAAD4fwAAAAAAAPh/AAAAAAAA+H8AAAAAAAD4fwAAAAAAAPh/AAAAAAAA+H8AAAAAAAD4fwAAAAAAAPh/AAAAAAAA+H8AAAAAAAD4fwAAAAAAAPh/zi/VcZQy6T8AAAAAAAD4fwAAAAAAAPh/AAAAAAAA+H8AAAAAAAD4fwAAAAAAAPh/AAAAAAAA+H8AAAAAAAD4fwAAAAAAAPh/AAAAAAAA+H8AAAAAAAD4f37JlMG6Tek/AAAAAAAA+H8AAAAAAAD4f4XGRq7POuk/L6RYIAhD6T8AAAAAAAD4f9DQB1X7TOk/AAAAAAAA+H8AAAAAAAD4fwAAAAAAAPh/AAAAAAAA+H8AAAAAAAD4fwAAAAAAAPh/AAAAAAAA+H8AAAAAAAD4fwAAAAAAAPh/AAAAAAAA+H8AAAAAAAD4fwAAAAAAAPh/AAAAAAAA+H8AAAAAAAD4fwAAAAAAAPh/AAAAAAAA+H8AAAAAAAD4fwAAAAAAAPh/AAAAAAAA+H8AAAAAAAD4f5mtixEOJek/MtiJNAvP6D8AAAAAAAD4f2s3zI+aK+k/AAAAAAAA+H8AAAAAAAD4fwAAAAAAAPh/lEHfd5kt6T8AAAAAAAD4fzbE/aGsN+k/BLPewHAi6T8AAAAAAAD4fwAAAAAAAPh/AAAAAAAA+H8AAAAAAAD4fwAAAAAAAPh/AAAAAAAA+H8AAAAAAAD4f8KXjw9sKuk/AAAAAAAA+H8AAAAAAAD4fwAAAAAAAPh/AAAAAAAA+H8AAAAAAAD4fwAAAAAAAPh/AAAAAAAA+H8AAAAAAAD4fwAAAAAAAPh/AAAAAAAA+H8AAAAAAAD4fwAAAAAAAPh/AAAAAAAA+H8AAAAAAAD4fwAAAAAAAPh/AAAAAAAA+H8AAAAAAAD4fwAAAAAAAPh/AAAAAAAA+H8AAAAAAAD4fwAAAAAAAPh/AAAAAAAA+H8AAAAAAAD4fwAAAAAAAPh/AAAAAAAA+H/lewo2yVTpPwAAAAAAAPh/j/SRPYfm6D8AAAAAAAD4f7KvS9vSVOk/AAAAAAAA+H8SvASPjYfpP3r28EGERuk/AAAAAAAA+H8AAAAAAAD4fwAAAAAAAPh/srmDKdJC6T8AAAAAAAD4fwAAAAAAAPh/AAAAAAAA+H8AAAAAAAD4fwAAAAAAAPh/AAAAAAAA+H8AAAAAAAD4fwAAAAAAAPh/AAAAAAAA+H8AAAAAAAD4fwAAAAAAAPh/AAAAAAAA+H8AAAAAAAD4fwRNjAt/buk/AAAAAAAA+H8AAAAAAAD4fwAAAAAAAPh/AAAAAAAA+H8AAAAAAAD4fwAAAAAAAPh/AAAAAAAA+H8AAAAAAAD4fwAAAAAAAPh/AAAAAAAA+H8AAAAAAAD4fwAAAAAAAPh/NgUe0xRy6T8c/GV9CVTpPwAAAAAAAPh/AAAAAAAA+H8NNVNZN0LpPwAAAAAAAPh/AAAAAAAA+H8AAAAAAAD4fwAAAAAAAPh/XW/VFi9H6T8AAAAAAAD4fwAAAAAAAPh/AAAAAAAA+H8AAAAAAAD4fwAAAAAAAPh/",
          "dtype": "f8",
          "shape": "6, 29"
         }
        }
       ],
       "layout": {
        "template": {
         "data": {
          "bar": [
           {
            "error_x": {
             "color": "#2a3f5f"
            },
            "error_y": {
             "color": "#2a3f5f"
            },
            "marker": {
             "line": {
              "color": "#E5ECF6",
              "width": 0.5
             },
             "pattern": {
              "fillmode": "overlay",
              "size": 10,
              "solidity": 0.2
             }
            },
            "type": "bar"
           }
          ],
          "barpolar": [
           {
            "marker": {
             "line": {
              "color": "#E5ECF6",
              "width": 0.5
             },
             "pattern": {
              "fillmode": "overlay",
              "size": 10,
              "solidity": 0.2
             }
            },
            "type": "barpolar"
           }
          ],
          "carpet": [
           {
            "aaxis": {
             "endlinecolor": "#2a3f5f",
             "gridcolor": "white",
             "linecolor": "white",
             "minorgridcolor": "white",
             "startlinecolor": "#2a3f5f"
            },
            "baxis": {
             "endlinecolor": "#2a3f5f",
             "gridcolor": "white",
             "linecolor": "white",
             "minorgridcolor": "white",
             "startlinecolor": "#2a3f5f"
            },
            "type": "carpet"
           }
          ],
          "choropleth": [
           {
            "colorbar": {
             "outlinewidth": 0,
             "ticks": ""
            },
            "type": "choropleth"
           }
          ],
          "contour": [
           {
            "colorbar": {
             "outlinewidth": 0,
             "ticks": ""
            },
            "colorscale": [
             [
              0,
              "#0d0887"
             ],
             [
              0.1111111111111111,
              "#46039f"
             ],
             [
              0.2222222222222222,
              "#7201a8"
             ],
             [
              0.3333333333333333,
              "#9c179e"
             ],
             [
              0.4444444444444444,
              "#bd3786"
             ],
             [
              0.5555555555555556,
              "#d8576b"
             ],
             [
              0.6666666666666666,
              "#ed7953"
             ],
             [
              0.7777777777777778,
              "#fb9f3a"
             ],
             [
              0.8888888888888888,
              "#fdca26"
             ],
             [
              1,
              "#f0f921"
             ]
            ],
            "type": "contour"
           }
          ],
          "contourcarpet": [
           {
            "colorbar": {
             "outlinewidth": 0,
             "ticks": ""
            },
            "type": "contourcarpet"
           }
          ],
          "heatmap": [
           {
            "colorbar": {
             "outlinewidth": 0,
             "ticks": ""
            },
            "colorscale": [
             [
              0,
              "#0d0887"
             ],
             [
              0.1111111111111111,
              "#46039f"
             ],
             [
              0.2222222222222222,
              "#7201a8"
             ],
             [
              0.3333333333333333,
              "#9c179e"
             ],
             [
              0.4444444444444444,
              "#bd3786"
             ],
             [
              0.5555555555555556,
              "#d8576b"
             ],
             [
              0.6666666666666666,
              "#ed7953"
             ],
             [
              0.7777777777777778,
              "#fb9f3a"
             ],
             [
              0.8888888888888888,
              "#fdca26"
             ],
             [
              1,
              "#f0f921"
             ]
            ],
            "type": "heatmap"
           }
          ],
          "histogram": [
           {
            "marker": {
             "pattern": {
              "fillmode": "overlay",
              "size": 10,
              "solidity": 0.2
             }
            },
            "type": "histogram"
           }
          ],
          "histogram2d": [
           {
            "colorbar": {
             "outlinewidth": 0,
             "ticks": ""
            },
            "colorscale": [
             [
              0,
              "#0d0887"
             ],
             [
              0.1111111111111111,
              "#46039f"
             ],
             [
              0.2222222222222222,
              "#7201a8"
             ],
             [
              0.3333333333333333,
              "#9c179e"
             ],
             [
              0.4444444444444444,
              "#bd3786"
             ],
             [
              0.5555555555555556,
              "#d8576b"
             ],
             [
              0.6666666666666666,
              "#ed7953"
             ],
             [
              0.7777777777777778,
              "#fb9f3a"
             ],
             [
              0.8888888888888888,
              "#fdca26"
             ],
             [
              1,
              "#f0f921"
             ]
            ],
            "type": "histogram2d"
           }
          ],
          "histogram2dcontour": [
           {
            "colorbar": {
             "outlinewidth": 0,
             "ticks": ""
            },
            "colorscale": [
             [
              0,
              "#0d0887"
             ],
             [
              0.1111111111111111,
              "#46039f"
             ],
             [
              0.2222222222222222,
              "#7201a8"
             ],
             [
              0.3333333333333333,
              "#9c179e"
             ],
             [
              0.4444444444444444,
              "#bd3786"
             ],
             [
              0.5555555555555556,
              "#d8576b"
             ],
             [
              0.6666666666666666,
              "#ed7953"
             ],
             [
              0.7777777777777778,
              "#fb9f3a"
             ],
             [
              0.8888888888888888,
              "#fdca26"
             ],
             [
              1,
              "#f0f921"
             ]
            ],
            "type": "histogram2dcontour"
           }
          ],
          "mesh3d": [
           {
            "colorbar": {
             "outlinewidth": 0,
             "ticks": ""
            },
            "type": "mesh3d"
           }
          ],
          "parcoords": [
           {
            "line": {
             "colorbar": {
              "outlinewidth": 0,
              "ticks": ""
             }
            },
            "type": "parcoords"
           }
          ],
          "pie": [
           {
            "automargin": true,
            "type": "pie"
           }
          ],
          "scatter": [
           {
            "fillpattern": {
             "fillmode": "overlay",
             "size": 10,
             "solidity": 0.2
            },
            "type": "scatter"
           }
          ],
          "scatter3d": [
           {
            "line": {
             "colorbar": {
              "outlinewidth": 0,
              "ticks": ""
             }
            },
            "marker": {
             "colorbar": {
              "outlinewidth": 0,
              "ticks": ""
             }
            },
            "type": "scatter3d"
           }
          ],
          "scattercarpet": [
           {
            "marker": {
             "colorbar": {
              "outlinewidth": 0,
              "ticks": ""
             }
            },
            "type": "scattercarpet"
           }
          ],
          "scattergeo": [
           {
            "marker": {
             "colorbar": {
              "outlinewidth": 0,
              "ticks": ""
             }
            },
            "type": "scattergeo"
           }
          ],
          "scattergl": [
           {
            "marker": {
             "colorbar": {
              "outlinewidth": 0,
              "ticks": ""
             }
            },
            "type": "scattergl"
           }
          ],
          "scattermap": [
           {
            "marker": {
             "colorbar": {
              "outlinewidth": 0,
              "ticks": ""
             }
            },
            "type": "scattermap"
           }
          ],
          "scattermapbox": [
           {
            "marker": {
             "colorbar": {
              "outlinewidth": 0,
              "ticks": ""
             }
            },
            "type": "scattermapbox"
           }
          ],
          "scatterpolar": [
           {
            "marker": {
             "colorbar": {
              "outlinewidth": 0,
              "ticks": ""
             }
            },
            "type": "scatterpolar"
           }
          ],
          "scatterpolargl": [
           {
            "marker": {
             "colorbar": {
              "outlinewidth": 0,
              "ticks": ""
             }
            },
            "type": "scatterpolargl"
           }
          ],
          "scatterternary": [
           {
            "marker": {
             "colorbar": {
              "outlinewidth": 0,
              "ticks": ""
             }
            },
            "type": "scatterternary"
           }
          ],
          "surface": [
           {
            "colorbar": {
             "outlinewidth": 0,
             "ticks": ""
            },
            "colorscale": [
             [
              0,
              "#0d0887"
             ],
             [
              0.1111111111111111,
              "#46039f"
             ],
             [
              0.2222222222222222,
              "#7201a8"
             ],
             [
              0.3333333333333333,
              "#9c179e"
             ],
             [
              0.4444444444444444,
              "#bd3786"
             ],
             [
              0.5555555555555556,
              "#d8576b"
             ],
             [
              0.6666666666666666,
              "#ed7953"
             ],
             [
              0.7777777777777778,
              "#fb9f3a"
             ],
             [
              0.8888888888888888,
              "#fdca26"
             ],
             [
              1,
              "#f0f921"
             ]
            ],
            "type": "surface"
           }
          ],
          "table": [
           {
            "cells": {
             "fill": {
              "color": "#EBF0F8"
             },
             "line": {
              "color": "white"
             }
            },
            "header": {
             "fill": {
              "color": "#C8D4E3"
             },
             "line": {
              "color": "white"
             }
            },
            "type": "table"
           }
          ]
         },
         "layout": {
          "annotationdefaults": {
           "arrowcolor": "#2a3f5f",
           "arrowhead": 0,
           "arrowwidth": 1
          },
          "autotypenumbers": "strict",
          "coloraxis": {
           "colorbar": {
            "outlinewidth": 0,
            "ticks": ""
           }
          },
          "colorscale": {
           "diverging": [
            [
             0,
             "#8e0152"
            ],
            [
             0.1,
             "#c51b7d"
            ],
            [
             0.2,
             "#de77ae"
            ],
            [
             0.3,
             "#f1b6da"
            ],
            [
             0.4,
             "#fde0ef"
            ],
            [
             0.5,
             "#f7f7f7"
            ],
            [
             0.6,
             "#e6f5d0"
            ],
            [
             0.7,
             "#b8e186"
            ],
            [
             0.8,
             "#7fbc41"
            ],
            [
             0.9,
             "#4d9221"
            ],
            [
             1,
             "#276419"
            ]
           ],
           "sequential": [
            [
             0,
             "#0d0887"
            ],
            [
             0.1111111111111111,
             "#46039f"
            ],
            [
             0.2222222222222222,
             "#7201a8"
            ],
            [
             0.3333333333333333,
             "#9c179e"
            ],
            [
             0.4444444444444444,
             "#bd3786"
            ],
            [
             0.5555555555555556,
             "#d8576b"
            ],
            [
             0.6666666666666666,
             "#ed7953"
            ],
            [
             0.7777777777777778,
             "#fb9f3a"
            ],
            [
             0.8888888888888888,
             "#fdca26"
            ],
            [
             1,
             "#f0f921"
            ]
           ],
           "sequentialminus": [
            [
             0,
             "#0d0887"
            ],
            [
             0.1111111111111111,
             "#46039f"
            ],
            [
             0.2222222222222222,
             "#7201a8"
            ],
            [
             0.3333333333333333,
             "#9c179e"
            ],
            [
             0.4444444444444444,
             "#bd3786"
            ],
            [
             0.5555555555555556,
             "#d8576b"
            ],
            [
             0.6666666666666666,
             "#ed7953"
            ],
            [
             0.7777777777777778,
             "#fb9f3a"
            ],
            [
             0.8888888888888888,
             "#fdca26"
            ],
            [
             1,
             "#f0f921"
            ]
           ]
          },
          "colorway": [
           "#636efa",
           "#EF553B",
           "#00cc96",
           "#ab63fa",
           "#FFA15A",
           "#19d3f3",
           "#FF6692",
           "#B6E880",
           "#FF97FF",
           "#FECB52"
          ],
          "font": {
           "color": "#2a3f5f"
          },
          "geo": {
           "bgcolor": "white",
           "lakecolor": "white",
           "landcolor": "#E5ECF6",
           "showlakes": true,
           "showland": true,
           "subunitcolor": "white"
          },
          "hoverlabel": {
           "align": "left"
          },
          "hovermode": "closest",
          "mapbox": {
           "style": "light"
          },
          "paper_bgcolor": "white",
          "plot_bgcolor": "#E5ECF6",
          "polar": {
           "angularaxis": {
            "gridcolor": "white",
            "linecolor": "white",
            "ticks": ""
           },
           "bgcolor": "#E5ECF6",
           "radialaxis": {
            "gridcolor": "white",
            "linecolor": "white",
            "ticks": ""
           }
          },
          "scene": {
           "xaxis": {
            "backgroundcolor": "#E5ECF6",
            "gridcolor": "white",
            "gridwidth": 2,
            "linecolor": "white",
            "showbackground": true,
            "ticks": "",
            "zerolinecolor": "white"
           },
           "yaxis": {
            "backgroundcolor": "#E5ECF6",
            "gridcolor": "white",
            "gridwidth": 2,
            "linecolor": "white",
            "showbackground": true,
            "ticks": "",
            "zerolinecolor": "white"
           },
           "zaxis": {
            "backgroundcolor": "#E5ECF6",
            "gridcolor": "white",
            "gridwidth": 2,
            "linecolor": "white",
            "showbackground": true,
            "ticks": "",
            "zerolinecolor": "white"
           }
          },
          "shapedefaults": {
           "line": {
            "color": "#2a3f5f"
           }
          },
          "ternary": {
           "aaxis": {
            "gridcolor": "white",
            "linecolor": "white",
            "ticks": ""
           },
           "baxis": {
            "gridcolor": "white",
            "linecolor": "white",
            "ticks": ""
           },
           "bgcolor": "#E5ECF6",
           "caxis": {
            "gridcolor": "white",
            "linecolor": "white",
            "ticks": ""
           }
          },
          "title": {
           "x": 0.05
          },
          "xaxis": {
           "automargin": true,
           "gridcolor": "white",
           "linecolor": "white",
           "ticks": "",
           "title": {
            "standoff": 15
           },
           "zerolinecolor": "white",
           "zerolinewidth": 2
          },
          "yaxis": {
           "automargin": true,
           "gridcolor": "white",
           "linecolor": "white",
           "ticks": "",
           "title": {
            "standoff": 15
           },
           "zerolinecolor": "white",
           "zerolinewidth": 2
          }
         }
        },
        "title": {
         "text": "RF: CV ROC AUC over (n_estimators, max_features)"
        },
        "xaxis": {
         "title": {
          "text": "n_estimators"
         }
        },
        "yaxis": {
         "title": {
          "text": "max_features"
         }
        }
       }
      }
     },
     "metadata": {},
     "output_type": "display_data"
    }
   ],
   "source": [
    "fig = go.Figure(data=[go.Heatmap(z=z, x=x, y=y_labels, colorbar_title=\"CV ROC AUC\")])\n",
    "fig.update_layout(\n",
    "    title=\"RF: CV ROC AUC over (n_estimators, max_features)\",\n",
    "    xaxis_title=\"n_estimators\",\n",
    "    yaxis_title=\"max_features\"\n",
    ")\n",
    "fig.show()\n"
   ]
  },
  {
   "cell_type": "code",
   "execution_count": 23,
   "id": "8a801453",
   "metadata": {},
   "outputs": [
    {
     "data": {
      "application/vnd.plotly.v1+json": {
       "config": {
        "plotlyServerURL": "https://plot.ly"
       },
       "data": [
        {
         "contours": {
          "showlabels": true
         },
         "type": "contour",
         "x": [
          314,
          332,
          334,
          362,
          371,
          456,
          489,
          501,
          530,
          540,
          573,
          613,
          630,
          637,
          643,
          645,
          666,
          687,
          718,
          755,
          776,
          784,
          791,
          802,
          840,
          860,
          912,
          963,
          983
         ],
         "y": {
          "bdata": "AAECAwQF",
          "dtype": "i1"
         },
         "z": {
          "bdata": "AAAAAAAA+H8AAAAAAAD4f5Ui5GzkUuk/6jSVeGhZ6T8Hep7ROEjpPwAAAAAAAPh/tus1RkpH6T8AAAAAAAD4fwAAAAAAAPh/AAAAAAAA+H8AAAAAAAD4fwAAAAAAAPh/AAAAAAAA+H/tx32FMV3pPwAAAAAAAPh/AAAAAAAA+H8AAAAAAAD4f5m8cl1iQuk/AAAAAAAA+H8AAAAAAAD4fwAAAAAAAPh/VyP9kFkv6T8AAAAAAAD4fwAAAAAAAPh/AAAAAAAA+H8AAAAAAAD4fwAAAAAAAPh/AAAAAAAA+H8AAAAAAAD4fwAAAAAAAPh/AAAAAAAA+H8AAAAAAAD4fwAAAAAAAPh/AAAAAAAA+H8AAAAAAAD4fwAAAAAAAPh/AAAAAAAA+H8AAAAAAAD4fwAAAAAAAPh/zi/VcZQy6T8AAAAAAAD4fwAAAAAAAPh/AAAAAAAA+H8AAAAAAAD4fwAAAAAAAPh/AAAAAAAA+H8AAAAAAAD4fwAAAAAAAPh/AAAAAAAA+H8AAAAAAAD4f37JlMG6Tek/AAAAAAAA+H8AAAAAAAD4f4XGRq7POuk/L6RYIAhD6T8AAAAAAAD4f9DQB1X7TOk/AAAAAAAA+H8AAAAAAAD4fwAAAAAAAPh/AAAAAAAA+H8AAAAAAAD4fwAAAAAAAPh/AAAAAAAA+H8AAAAAAAD4fwAAAAAAAPh/AAAAAAAA+H8AAAAAAAD4fwAAAAAAAPh/AAAAAAAA+H8AAAAAAAD4fwAAAAAAAPh/AAAAAAAA+H8AAAAAAAD4fwAAAAAAAPh/AAAAAAAA+H8AAAAAAAD4f5mtixEOJek/MtiJNAvP6D8AAAAAAAD4f2s3zI+aK+k/AAAAAAAA+H8AAAAAAAD4fwAAAAAAAPh/lEHfd5kt6T8AAAAAAAD4fzbE/aGsN+k/BLPewHAi6T8AAAAAAAD4fwAAAAAAAPh/AAAAAAAA+H8AAAAAAAD4fwAAAAAAAPh/AAAAAAAA+H8AAAAAAAD4f8KXjw9sKuk/AAAAAAAA+H8AAAAAAAD4fwAAAAAAAPh/AAAAAAAA+H8AAAAAAAD4fwAAAAAAAPh/AAAAAAAA+H8AAAAAAAD4fwAAAAAAAPh/AAAAAAAA+H8AAAAAAAD4fwAAAAAAAPh/AAAAAAAA+H8AAAAAAAD4fwAAAAAAAPh/AAAAAAAA+H8AAAAAAAD4fwAAAAAAAPh/AAAAAAAA+H8AAAAAAAD4fwAAAAAAAPh/AAAAAAAA+H8AAAAAAAD4fwAAAAAAAPh/AAAAAAAA+H/lewo2yVTpPwAAAAAAAPh/j/SRPYfm6D8AAAAAAAD4f7KvS9vSVOk/AAAAAAAA+H8SvASPjYfpP3r28EGERuk/AAAAAAAA+H8AAAAAAAD4fwAAAAAAAPh/srmDKdJC6T8AAAAAAAD4fwAAAAAAAPh/AAAAAAAA+H8AAAAAAAD4fwAAAAAAAPh/AAAAAAAA+H8AAAAAAAD4fwAAAAAAAPh/AAAAAAAA+H8AAAAAAAD4fwAAAAAAAPh/AAAAAAAA+H8AAAAAAAD4fwRNjAt/buk/AAAAAAAA+H8AAAAAAAD4fwAAAAAAAPh/AAAAAAAA+H8AAAAAAAD4fwAAAAAAAPh/AAAAAAAA+H8AAAAAAAD4fwAAAAAAAPh/AAAAAAAA+H8AAAAAAAD4fwAAAAAAAPh/NgUe0xRy6T8c/GV9CVTpPwAAAAAAAPh/AAAAAAAA+H8NNVNZN0LpPwAAAAAAAPh/AAAAAAAA+H8AAAAAAAD4fwAAAAAAAPh/XW/VFi9H6T8AAAAAAAD4fwAAAAAAAPh/AAAAAAAA+H8AAAAAAAD4fwAAAAAAAPh/",
          "dtype": "f8",
          "shape": "6, 29"
         }
        }
       ],
       "layout": {
        "template": {
         "data": {
          "bar": [
           {
            "error_x": {
             "color": "#2a3f5f"
            },
            "error_y": {
             "color": "#2a3f5f"
            },
            "marker": {
             "line": {
              "color": "#E5ECF6",
              "width": 0.5
             },
             "pattern": {
              "fillmode": "overlay",
              "size": 10,
              "solidity": 0.2
             }
            },
            "type": "bar"
           }
          ],
          "barpolar": [
           {
            "marker": {
             "line": {
              "color": "#E5ECF6",
              "width": 0.5
             },
             "pattern": {
              "fillmode": "overlay",
              "size": 10,
              "solidity": 0.2
             }
            },
            "type": "barpolar"
           }
          ],
          "carpet": [
           {
            "aaxis": {
             "endlinecolor": "#2a3f5f",
             "gridcolor": "white",
             "linecolor": "white",
             "minorgridcolor": "white",
             "startlinecolor": "#2a3f5f"
            },
            "baxis": {
             "endlinecolor": "#2a3f5f",
             "gridcolor": "white",
             "linecolor": "white",
             "minorgridcolor": "white",
             "startlinecolor": "#2a3f5f"
            },
            "type": "carpet"
           }
          ],
          "choropleth": [
           {
            "colorbar": {
             "outlinewidth": 0,
             "ticks": ""
            },
            "type": "choropleth"
           }
          ],
          "contour": [
           {
            "colorbar": {
             "outlinewidth": 0,
             "ticks": ""
            },
            "colorscale": [
             [
              0,
              "#0d0887"
             ],
             [
              0.1111111111111111,
              "#46039f"
             ],
             [
              0.2222222222222222,
              "#7201a8"
             ],
             [
              0.3333333333333333,
              "#9c179e"
             ],
             [
              0.4444444444444444,
              "#bd3786"
             ],
             [
              0.5555555555555556,
              "#d8576b"
             ],
             [
              0.6666666666666666,
              "#ed7953"
             ],
             [
              0.7777777777777778,
              "#fb9f3a"
             ],
             [
              0.8888888888888888,
              "#fdca26"
             ],
             [
              1,
              "#f0f921"
             ]
            ],
            "type": "contour"
           }
          ],
          "contourcarpet": [
           {
            "colorbar": {
             "outlinewidth": 0,
             "ticks": ""
            },
            "type": "contourcarpet"
           }
          ],
          "heatmap": [
           {
            "colorbar": {
             "outlinewidth": 0,
             "ticks": ""
            },
            "colorscale": [
             [
              0,
              "#0d0887"
             ],
             [
              0.1111111111111111,
              "#46039f"
             ],
             [
              0.2222222222222222,
              "#7201a8"
             ],
             [
              0.3333333333333333,
              "#9c179e"
             ],
             [
              0.4444444444444444,
              "#bd3786"
             ],
             [
              0.5555555555555556,
              "#d8576b"
             ],
             [
              0.6666666666666666,
              "#ed7953"
             ],
             [
              0.7777777777777778,
              "#fb9f3a"
             ],
             [
              0.8888888888888888,
              "#fdca26"
             ],
             [
              1,
              "#f0f921"
             ]
            ],
            "type": "heatmap"
           }
          ],
          "histogram": [
           {
            "marker": {
             "pattern": {
              "fillmode": "overlay",
              "size": 10,
              "solidity": 0.2
             }
            },
            "type": "histogram"
           }
          ],
          "histogram2d": [
           {
            "colorbar": {
             "outlinewidth": 0,
             "ticks": ""
            },
            "colorscale": [
             [
              0,
              "#0d0887"
             ],
             [
              0.1111111111111111,
              "#46039f"
             ],
             [
              0.2222222222222222,
              "#7201a8"
             ],
             [
              0.3333333333333333,
              "#9c179e"
             ],
             [
              0.4444444444444444,
              "#bd3786"
             ],
             [
              0.5555555555555556,
              "#d8576b"
             ],
             [
              0.6666666666666666,
              "#ed7953"
             ],
             [
              0.7777777777777778,
              "#fb9f3a"
             ],
             [
              0.8888888888888888,
              "#fdca26"
             ],
             [
              1,
              "#f0f921"
             ]
            ],
            "type": "histogram2d"
           }
          ],
          "histogram2dcontour": [
           {
            "colorbar": {
             "outlinewidth": 0,
             "ticks": ""
            },
            "colorscale": [
             [
              0,
              "#0d0887"
             ],
             [
              0.1111111111111111,
              "#46039f"
             ],
             [
              0.2222222222222222,
              "#7201a8"
             ],
             [
              0.3333333333333333,
              "#9c179e"
             ],
             [
              0.4444444444444444,
              "#bd3786"
             ],
             [
              0.5555555555555556,
              "#d8576b"
             ],
             [
              0.6666666666666666,
              "#ed7953"
             ],
             [
              0.7777777777777778,
              "#fb9f3a"
             ],
             [
              0.8888888888888888,
              "#fdca26"
             ],
             [
              1,
              "#f0f921"
             ]
            ],
            "type": "histogram2dcontour"
           }
          ],
          "mesh3d": [
           {
            "colorbar": {
             "outlinewidth": 0,
             "ticks": ""
            },
            "type": "mesh3d"
           }
          ],
          "parcoords": [
           {
            "line": {
             "colorbar": {
              "outlinewidth": 0,
              "ticks": ""
             }
            },
            "type": "parcoords"
           }
          ],
          "pie": [
           {
            "automargin": true,
            "type": "pie"
           }
          ],
          "scatter": [
           {
            "fillpattern": {
             "fillmode": "overlay",
             "size": 10,
             "solidity": 0.2
            },
            "type": "scatter"
           }
          ],
          "scatter3d": [
           {
            "line": {
             "colorbar": {
              "outlinewidth": 0,
              "ticks": ""
             }
            },
            "marker": {
             "colorbar": {
              "outlinewidth": 0,
              "ticks": ""
             }
            },
            "type": "scatter3d"
           }
          ],
          "scattercarpet": [
           {
            "marker": {
             "colorbar": {
              "outlinewidth": 0,
              "ticks": ""
             }
            },
            "type": "scattercarpet"
           }
          ],
          "scattergeo": [
           {
            "marker": {
             "colorbar": {
              "outlinewidth": 0,
              "ticks": ""
             }
            },
            "type": "scattergeo"
           }
          ],
          "scattergl": [
           {
            "marker": {
             "colorbar": {
              "outlinewidth": 0,
              "ticks": ""
             }
            },
            "type": "scattergl"
           }
          ],
          "scattermap": [
           {
            "marker": {
             "colorbar": {
              "outlinewidth": 0,
              "ticks": ""
             }
            },
            "type": "scattermap"
           }
          ],
          "scattermapbox": [
           {
            "marker": {
             "colorbar": {
              "outlinewidth": 0,
              "ticks": ""
             }
            },
            "type": "scattermapbox"
           }
          ],
          "scatterpolar": [
           {
            "marker": {
             "colorbar": {
              "outlinewidth": 0,
              "ticks": ""
             }
            },
            "type": "scatterpolar"
           }
          ],
          "scatterpolargl": [
           {
            "marker": {
             "colorbar": {
              "outlinewidth": 0,
              "ticks": ""
             }
            },
            "type": "scatterpolargl"
           }
          ],
          "scatterternary": [
           {
            "marker": {
             "colorbar": {
              "outlinewidth": 0,
              "ticks": ""
             }
            },
            "type": "scatterternary"
           }
          ],
          "surface": [
           {
            "colorbar": {
             "outlinewidth": 0,
             "ticks": ""
            },
            "colorscale": [
             [
              0,
              "#0d0887"
             ],
             [
              0.1111111111111111,
              "#46039f"
             ],
             [
              0.2222222222222222,
              "#7201a8"
             ],
             [
              0.3333333333333333,
              "#9c179e"
             ],
             [
              0.4444444444444444,
              "#bd3786"
             ],
             [
              0.5555555555555556,
              "#d8576b"
             ],
             [
              0.6666666666666666,
              "#ed7953"
             ],
             [
              0.7777777777777778,
              "#fb9f3a"
             ],
             [
              0.8888888888888888,
              "#fdca26"
             ],
             [
              1,
              "#f0f921"
             ]
            ],
            "type": "surface"
           }
          ],
          "table": [
           {
            "cells": {
             "fill": {
              "color": "#EBF0F8"
             },
             "line": {
              "color": "white"
             }
            },
            "header": {
             "fill": {
              "color": "#C8D4E3"
             },
             "line": {
              "color": "white"
             }
            },
            "type": "table"
           }
          ]
         },
         "layout": {
          "annotationdefaults": {
           "arrowcolor": "#2a3f5f",
           "arrowhead": 0,
           "arrowwidth": 1
          },
          "autotypenumbers": "strict",
          "coloraxis": {
           "colorbar": {
            "outlinewidth": 0,
            "ticks": ""
           }
          },
          "colorscale": {
           "diverging": [
            [
             0,
             "#8e0152"
            ],
            [
             0.1,
             "#c51b7d"
            ],
            [
             0.2,
             "#de77ae"
            ],
            [
             0.3,
             "#f1b6da"
            ],
            [
             0.4,
             "#fde0ef"
            ],
            [
             0.5,
             "#f7f7f7"
            ],
            [
             0.6,
             "#e6f5d0"
            ],
            [
             0.7,
             "#b8e186"
            ],
            [
             0.8,
             "#7fbc41"
            ],
            [
             0.9,
             "#4d9221"
            ],
            [
             1,
             "#276419"
            ]
           ],
           "sequential": [
            [
             0,
             "#0d0887"
            ],
            [
             0.1111111111111111,
             "#46039f"
            ],
            [
             0.2222222222222222,
             "#7201a8"
            ],
            [
             0.3333333333333333,
             "#9c179e"
            ],
            [
             0.4444444444444444,
             "#bd3786"
            ],
            [
             0.5555555555555556,
             "#d8576b"
            ],
            [
             0.6666666666666666,
             "#ed7953"
            ],
            [
             0.7777777777777778,
             "#fb9f3a"
            ],
            [
             0.8888888888888888,
             "#fdca26"
            ],
            [
             1,
             "#f0f921"
            ]
           ],
           "sequentialminus": [
            [
             0,
             "#0d0887"
            ],
            [
             0.1111111111111111,
             "#46039f"
            ],
            [
             0.2222222222222222,
             "#7201a8"
            ],
            [
             0.3333333333333333,
             "#9c179e"
            ],
            [
             0.4444444444444444,
             "#bd3786"
            ],
            [
             0.5555555555555556,
             "#d8576b"
            ],
            [
             0.6666666666666666,
             "#ed7953"
            ],
            [
             0.7777777777777778,
             "#fb9f3a"
            ],
            [
             0.8888888888888888,
             "#fdca26"
            ],
            [
             1,
             "#f0f921"
            ]
           ]
          },
          "colorway": [
           "#636efa",
           "#EF553B",
           "#00cc96",
           "#ab63fa",
           "#FFA15A",
           "#19d3f3",
           "#FF6692",
           "#B6E880",
           "#FF97FF",
           "#FECB52"
          ],
          "font": {
           "color": "#2a3f5f"
          },
          "geo": {
           "bgcolor": "white",
           "lakecolor": "white",
           "landcolor": "#E5ECF6",
           "showlakes": true,
           "showland": true,
           "subunitcolor": "white"
          },
          "hoverlabel": {
           "align": "left"
          },
          "hovermode": "closest",
          "mapbox": {
           "style": "light"
          },
          "paper_bgcolor": "white",
          "plot_bgcolor": "#E5ECF6",
          "polar": {
           "angularaxis": {
            "gridcolor": "white",
            "linecolor": "white",
            "ticks": ""
           },
           "bgcolor": "#E5ECF6",
           "radialaxis": {
            "gridcolor": "white",
            "linecolor": "white",
            "ticks": ""
           }
          },
          "scene": {
           "xaxis": {
            "backgroundcolor": "#E5ECF6",
            "gridcolor": "white",
            "gridwidth": 2,
            "linecolor": "white",
            "showbackground": true,
            "ticks": "",
            "zerolinecolor": "white"
           },
           "yaxis": {
            "backgroundcolor": "#E5ECF6",
            "gridcolor": "white",
            "gridwidth": 2,
            "linecolor": "white",
            "showbackground": true,
            "ticks": "",
            "zerolinecolor": "white"
           },
           "zaxis": {
            "backgroundcolor": "#E5ECF6",
            "gridcolor": "white",
            "gridwidth": 2,
            "linecolor": "white",
            "showbackground": true,
            "ticks": "",
            "zerolinecolor": "white"
           }
          },
          "shapedefaults": {
           "line": {
            "color": "#2a3f5f"
           }
          },
          "ternary": {
           "aaxis": {
            "gridcolor": "white",
            "linecolor": "white",
            "ticks": ""
           },
           "baxis": {
            "gridcolor": "white",
            "linecolor": "white",
            "ticks": ""
           },
           "bgcolor": "#E5ECF6",
           "caxis": {
            "gridcolor": "white",
            "linecolor": "white",
            "ticks": ""
           }
          },
          "title": {
           "x": 0.05
          },
          "xaxis": {
           "automargin": true,
           "gridcolor": "white",
           "linecolor": "white",
           "ticks": "",
           "title": {
            "standoff": 15
           },
           "zerolinecolor": "white",
           "zerolinewidth": 2
          },
          "yaxis": {
           "automargin": true,
           "gridcolor": "white",
           "linecolor": "white",
           "ticks": "",
           "title": {
            "standoff": 15
           },
           "zerolinecolor": "white",
           "zerolinewidth": 2
          }
         }
        },
        "title": {
         "text": "RF: CV ROC AUC (contour)"
        },
        "xaxis": {
         "title": {
          "text": "n_estimators"
         }
        },
        "yaxis": {
         "tickmode": "array",
         "ticktext": [
          "0.3",
          "0.5",
          "0.8",
          "None",
          "log2",
          "sqrt"
         ],
         "tickvals": {
          "bdata": "AAECAwQF",
          "dtype": "i1"
         },
         "title": {
          "text": "max_features"
         }
        }
       }
      }
     },
     "metadata": {},
     "output_type": "display_data"
    }
   ],
   "source": [
    "y_pos = np.arange(len(y_labels))\n",
    "fig = go.Figure(data=[go.Contour(z=z, x=x, y=y_pos, contours=dict(showlabels=True))])\n",
    "fig.update_layout(\n",
    "    title=\"RF: CV ROC AUC (contour)\",\n",
    "    xaxis_title=\"n_estimators\",\n",
    "    yaxis=dict(title=\"max_features\", tickmode=\"array\", tickvals=y_pos, ticktext=y_labels)\n",
    ")\n",
    "fig.show()\n"
   ]
  },
  {
   "cell_type": "code",
   "execution_count": 24,
   "id": "afe8baf1",
   "metadata": {},
   "outputs": [
    {
     "data": {
      "application/vnd.plotly.v1+json": {
       "config": {
        "plotlyServerURL": "https://plot.ly"
       },
       "data": [
        {
         "type": "surface",
         "x": {
          "bdata": "OgFMAU4BagFzAcgB6QH1ARICHAI9AmUCdgJ9AoMChQKaAq8CzgLzAggDEAMXAyIDSANcA5ADwwPXAw==",
          "dtype": "i2"
         },
         "y": {
          "bdata": "AAECAwQF",
          "dtype": "i1"
         },
         "z": {
          "bdata": "lSLkbORS6T+VIuRs5FLpP5Ui5GzkUuk/6jSVeGhZ6T8Hep7ROEjpP94y6ovBR+k/tus1RkpH6T++L0BPa0rpP8ZzSliMTek/zrdUYa1Q6T/V+15qzlPpP90/aXPvVuk/5YNzfBBa6T/tx32FMV3pPxgFe7t9Vuk/Q0J48clP6T9uf3UnFknpP5m8cl1iQuk/SFZVKqA96T/47zf33TjpP6iJGsQbNOk/VyP9kFkv6T9XI/2QWS/pP1cj/ZBZL+k/VyP9kFkv6T9XI/2QWS/pP1cj/ZBZL+k/VyP9kFkv6T9XI/2QWS/pP84v1XGUMuk/zi/VcZQy6T/OL9VxlDLpP84v1XGUMuk/zi/VcZQy6T/OL9VxlDLpP84v1XGUMuk/zi/VcZQy6T/OL9VxlDLpP84v1XGUMuk/zi/VcZQy6T+Yg4lKDDXpP2LXPSOEN+k/LSvy+/s56T/3fqbUczzpP8HSWq3rPuk/iyYPhmNB6T9VesNe20PpPx/OdzdTRuk/6iEsEMtI6T+0deDoQkvpP37JlMG6Tek/1h3QZWxH6T8tcgsKHkHpP4XGRq7POuk/L6RYIAhD6T+AOrC6AUjpP9DQB1X7TOk/0NAHVftM6T+ZrYsRDiXpP5mtixEOJek/ma2LEQ4l6T+ZrYsRDiXpP5mtixEOJek/ma2LEQ4l6T+ZrYsRDiXpP5mtixEOJek/ma2LEQ4l6T+ZrYsRDiXpP5mtixEOJek/ma2LEQ4l6T+ZrYsRDiXpP5mtixEOJek/ma2LEQ4l6T+ZrYsRDiXpP5mtixEOJek/ma2LEQ4l6T+ZrYsRDiXpP5mtixEOJek/MtiJNAvP6D/OByviUv3oP2s3zI+aK+k/9fnQSRos6T+AvNUDmizpPwp/2r0ZLek/lEHfd5kt6T/lgu4MozLpPzbE/aGsN+k/BLPewHAi6T+cz7QqcCPpPzTsipRvJOk/ywhh/m4l6T9jJTdobibpP/tBDdJtJ+k/kl7jO20o6T8qe7mlbCnpP8KXjw9sKuk/wpePD2wq6T/Cl48PbCrpP8KXjw9sKuk/wpePD2wq6T/Cl48PbCrpP8KXjw9sKuk/wpePD2wq6T/Cl48PbCrpP8KXjw9sKuk/wpePD2wq6T/Cl48PbCrpP8KXjw9sKuk/wpePD2wq6T/Cl48PbCrpP8KXjw9sKuk/wpePD2wq6T/Cl48PbCrpP8KXjw9sKuk/wpePD2wq6T/Cl48PbCrpP+V7CjbJVOk/5XsKNslU6T/lewo2yVTpP+V7CjbJVOk/5XsKNslU6T/lewo2yVTpPzo4zjmoHek/j/SRPYfm6D8g0m4MrR3pP7KvS9vSVOk/4jUoNTBu6T8SvASPjYfpP3r28EGERuk/SKfVu5dF6T8WWLo1q0TpP+QIn6++Q+k/srmDKdJC6T+yuYMp0kLpP7K5gynSQuk/srmDKdJC6T+yuYMp0kLpP7K5gynSQuk/srmDKdJC6T+yuYMp0kLpP7K5gynSQuk/srmDKdJC6T+yuYMp0kLpP7K5gynSQuk/srmDKdJC6T8ETYwLf27pPwRNjAt/buk/COW+pMVu6T8MffE9DG/pPxAVJNdSb+k/E61WcJlv6T8XRYkJ4G/pPxvdu6ImcOk/H3XuO21w6T8jDSHVs3DpPyelU276cOk/Kj2GB0Fx6T8u1bigh3HpPzJt6znOcek/NgUe0xRy6T8c/GV9CVTpPxcPtcYYTuk/EiIEEChI6T8NNVNZN0LpP7dAbbI1Q+k/YEyHCzRE6T8KWKFkMkXpP7Nju70wRuk/XW/VFi9H6T9db9UWL0fpP11v1RYvR+k/XW/VFi9H6T9db9UWL0fpP11v1RYvR+k/",
          "dtype": "f8",
          "shape": "6, 29"
         }
        }
       ],
       "layout": {
        "height": 800,
        "margin": {
         "b": 65,
         "l": 65,
         "r": 50,
         "t": 90
        },
        "scene": {
         "xaxis": {
          "title": {
           "text": "n_estimators"
          }
         },
         "yaxis": {
          "tickmode": "array",
          "ticktext": [
           "0.3",
           "0.5",
           "0.8",
           "None",
           "log2",
           "sqrt"
          ],
          "tickvals": {
           "bdata": "AAECAwQF",
           "dtype": "i1"
          },
          "title": {
           "text": "max_features"
          }
         },
         "zaxis": {
          "title": {
           "text": "CV ROC AUC"
          }
         }
        },
        "template": {
         "data": {
          "bar": [
           {
            "error_x": {
             "color": "#2a3f5f"
            },
            "error_y": {
             "color": "#2a3f5f"
            },
            "marker": {
             "line": {
              "color": "#E5ECF6",
              "width": 0.5
             },
             "pattern": {
              "fillmode": "overlay",
              "size": 10,
              "solidity": 0.2
             }
            },
            "type": "bar"
           }
          ],
          "barpolar": [
           {
            "marker": {
             "line": {
              "color": "#E5ECF6",
              "width": 0.5
             },
             "pattern": {
              "fillmode": "overlay",
              "size": 10,
              "solidity": 0.2
             }
            },
            "type": "barpolar"
           }
          ],
          "carpet": [
           {
            "aaxis": {
             "endlinecolor": "#2a3f5f",
             "gridcolor": "white",
             "linecolor": "white",
             "minorgridcolor": "white",
             "startlinecolor": "#2a3f5f"
            },
            "baxis": {
             "endlinecolor": "#2a3f5f",
             "gridcolor": "white",
             "linecolor": "white",
             "minorgridcolor": "white",
             "startlinecolor": "#2a3f5f"
            },
            "type": "carpet"
           }
          ],
          "choropleth": [
           {
            "colorbar": {
             "outlinewidth": 0,
             "ticks": ""
            },
            "type": "choropleth"
           }
          ],
          "contour": [
           {
            "colorbar": {
             "outlinewidth": 0,
             "ticks": ""
            },
            "colorscale": [
             [
              0,
              "#0d0887"
             ],
             [
              0.1111111111111111,
              "#46039f"
             ],
             [
              0.2222222222222222,
              "#7201a8"
             ],
             [
              0.3333333333333333,
              "#9c179e"
             ],
             [
              0.4444444444444444,
              "#bd3786"
             ],
             [
              0.5555555555555556,
              "#d8576b"
             ],
             [
              0.6666666666666666,
              "#ed7953"
             ],
             [
              0.7777777777777778,
              "#fb9f3a"
             ],
             [
              0.8888888888888888,
              "#fdca26"
             ],
             [
              1,
              "#f0f921"
             ]
            ],
            "type": "contour"
           }
          ],
          "contourcarpet": [
           {
            "colorbar": {
             "outlinewidth": 0,
             "ticks": ""
            },
            "type": "contourcarpet"
           }
          ],
          "heatmap": [
           {
            "colorbar": {
             "outlinewidth": 0,
             "ticks": ""
            },
            "colorscale": [
             [
              0,
              "#0d0887"
             ],
             [
              0.1111111111111111,
              "#46039f"
             ],
             [
              0.2222222222222222,
              "#7201a8"
             ],
             [
              0.3333333333333333,
              "#9c179e"
             ],
             [
              0.4444444444444444,
              "#bd3786"
             ],
             [
              0.5555555555555556,
              "#d8576b"
             ],
             [
              0.6666666666666666,
              "#ed7953"
             ],
             [
              0.7777777777777778,
              "#fb9f3a"
             ],
             [
              0.8888888888888888,
              "#fdca26"
             ],
             [
              1,
              "#f0f921"
             ]
            ],
            "type": "heatmap"
           }
          ],
          "histogram": [
           {
            "marker": {
             "pattern": {
              "fillmode": "overlay",
              "size": 10,
              "solidity": 0.2
             }
            },
            "type": "histogram"
           }
          ],
          "histogram2d": [
           {
            "colorbar": {
             "outlinewidth": 0,
             "ticks": ""
            },
            "colorscale": [
             [
              0,
              "#0d0887"
             ],
             [
              0.1111111111111111,
              "#46039f"
             ],
             [
              0.2222222222222222,
              "#7201a8"
             ],
             [
              0.3333333333333333,
              "#9c179e"
             ],
             [
              0.4444444444444444,
              "#bd3786"
             ],
             [
              0.5555555555555556,
              "#d8576b"
             ],
             [
              0.6666666666666666,
              "#ed7953"
             ],
             [
              0.7777777777777778,
              "#fb9f3a"
             ],
             [
              0.8888888888888888,
              "#fdca26"
             ],
             [
              1,
              "#f0f921"
             ]
            ],
            "type": "histogram2d"
           }
          ],
          "histogram2dcontour": [
           {
            "colorbar": {
             "outlinewidth": 0,
             "ticks": ""
            },
            "colorscale": [
             [
              0,
              "#0d0887"
             ],
             [
              0.1111111111111111,
              "#46039f"
             ],
             [
              0.2222222222222222,
              "#7201a8"
             ],
             [
              0.3333333333333333,
              "#9c179e"
             ],
             [
              0.4444444444444444,
              "#bd3786"
             ],
             [
              0.5555555555555556,
              "#d8576b"
             ],
             [
              0.6666666666666666,
              "#ed7953"
             ],
             [
              0.7777777777777778,
              "#fb9f3a"
             ],
             [
              0.8888888888888888,
              "#fdca26"
             ],
             [
              1,
              "#f0f921"
             ]
            ],
            "type": "histogram2dcontour"
           }
          ],
          "mesh3d": [
           {
            "colorbar": {
             "outlinewidth": 0,
             "ticks": ""
            },
            "type": "mesh3d"
           }
          ],
          "parcoords": [
           {
            "line": {
             "colorbar": {
              "outlinewidth": 0,
              "ticks": ""
             }
            },
            "type": "parcoords"
           }
          ],
          "pie": [
           {
            "automargin": true,
            "type": "pie"
           }
          ],
          "scatter": [
           {
            "fillpattern": {
             "fillmode": "overlay",
             "size": 10,
             "solidity": 0.2
            },
            "type": "scatter"
           }
          ],
          "scatter3d": [
           {
            "line": {
             "colorbar": {
              "outlinewidth": 0,
              "ticks": ""
             }
            },
            "marker": {
             "colorbar": {
              "outlinewidth": 0,
              "ticks": ""
             }
            },
            "type": "scatter3d"
           }
          ],
          "scattercarpet": [
           {
            "marker": {
             "colorbar": {
              "outlinewidth": 0,
              "ticks": ""
             }
            },
            "type": "scattercarpet"
           }
          ],
          "scattergeo": [
           {
            "marker": {
             "colorbar": {
              "outlinewidth": 0,
              "ticks": ""
             }
            },
            "type": "scattergeo"
           }
          ],
          "scattergl": [
           {
            "marker": {
             "colorbar": {
              "outlinewidth": 0,
              "ticks": ""
             }
            },
            "type": "scattergl"
           }
          ],
          "scattermap": [
           {
            "marker": {
             "colorbar": {
              "outlinewidth": 0,
              "ticks": ""
             }
            },
            "type": "scattermap"
           }
          ],
          "scattermapbox": [
           {
            "marker": {
             "colorbar": {
              "outlinewidth": 0,
              "ticks": ""
             }
            },
            "type": "scattermapbox"
           }
          ],
          "scatterpolar": [
           {
            "marker": {
             "colorbar": {
              "outlinewidth": 0,
              "ticks": ""
             }
            },
            "type": "scatterpolar"
           }
          ],
          "scatterpolargl": [
           {
            "marker": {
             "colorbar": {
              "outlinewidth": 0,
              "ticks": ""
             }
            },
            "type": "scatterpolargl"
           }
          ],
          "scatterternary": [
           {
            "marker": {
             "colorbar": {
              "outlinewidth": 0,
              "ticks": ""
             }
            },
            "type": "scatterternary"
           }
          ],
          "surface": [
           {
            "colorbar": {
             "outlinewidth": 0,
             "ticks": ""
            },
            "colorscale": [
             [
              0,
              "#0d0887"
             ],
             [
              0.1111111111111111,
              "#46039f"
             ],
             [
              0.2222222222222222,
              "#7201a8"
             ],
             [
              0.3333333333333333,
              "#9c179e"
             ],
             [
              0.4444444444444444,
              "#bd3786"
             ],
             [
              0.5555555555555556,
              "#d8576b"
             ],
             [
              0.6666666666666666,
              "#ed7953"
             ],
             [
              0.7777777777777778,
              "#fb9f3a"
             ],
             [
              0.8888888888888888,
              "#fdca26"
             ],
             [
              1,
              "#f0f921"
             ]
            ],
            "type": "surface"
           }
          ],
          "table": [
           {
            "cells": {
             "fill": {
              "color": "#EBF0F8"
             },
             "line": {
              "color": "white"
             }
            },
            "header": {
             "fill": {
              "color": "#C8D4E3"
             },
             "line": {
              "color": "white"
             }
            },
            "type": "table"
           }
          ]
         },
         "layout": {
          "annotationdefaults": {
           "arrowcolor": "#2a3f5f",
           "arrowhead": 0,
           "arrowwidth": 1
          },
          "autotypenumbers": "strict",
          "coloraxis": {
           "colorbar": {
            "outlinewidth": 0,
            "ticks": ""
           }
          },
          "colorscale": {
           "diverging": [
            [
             0,
             "#8e0152"
            ],
            [
             0.1,
             "#c51b7d"
            ],
            [
             0.2,
             "#de77ae"
            ],
            [
             0.3,
             "#f1b6da"
            ],
            [
             0.4,
             "#fde0ef"
            ],
            [
             0.5,
             "#f7f7f7"
            ],
            [
             0.6,
             "#e6f5d0"
            ],
            [
             0.7,
             "#b8e186"
            ],
            [
             0.8,
             "#7fbc41"
            ],
            [
             0.9,
             "#4d9221"
            ],
            [
             1,
             "#276419"
            ]
           ],
           "sequential": [
            [
             0,
             "#0d0887"
            ],
            [
             0.1111111111111111,
             "#46039f"
            ],
            [
             0.2222222222222222,
             "#7201a8"
            ],
            [
             0.3333333333333333,
             "#9c179e"
            ],
            [
             0.4444444444444444,
             "#bd3786"
            ],
            [
             0.5555555555555556,
             "#d8576b"
            ],
            [
             0.6666666666666666,
             "#ed7953"
            ],
            [
             0.7777777777777778,
             "#fb9f3a"
            ],
            [
             0.8888888888888888,
             "#fdca26"
            ],
            [
             1,
             "#f0f921"
            ]
           ],
           "sequentialminus": [
            [
             0,
             "#0d0887"
            ],
            [
             0.1111111111111111,
             "#46039f"
            ],
            [
             0.2222222222222222,
             "#7201a8"
            ],
            [
             0.3333333333333333,
             "#9c179e"
            ],
            [
             0.4444444444444444,
             "#bd3786"
            ],
            [
             0.5555555555555556,
             "#d8576b"
            ],
            [
             0.6666666666666666,
             "#ed7953"
            ],
            [
             0.7777777777777778,
             "#fb9f3a"
            ],
            [
             0.8888888888888888,
             "#fdca26"
            ],
            [
             1,
             "#f0f921"
            ]
           ]
          },
          "colorway": [
           "#636efa",
           "#EF553B",
           "#00cc96",
           "#ab63fa",
           "#FFA15A",
           "#19d3f3",
           "#FF6692",
           "#B6E880",
           "#FF97FF",
           "#FECB52"
          ],
          "font": {
           "color": "#2a3f5f"
          },
          "geo": {
           "bgcolor": "white",
           "lakecolor": "white",
           "landcolor": "#E5ECF6",
           "showlakes": true,
           "showland": true,
           "subunitcolor": "white"
          },
          "hoverlabel": {
           "align": "left"
          },
          "hovermode": "closest",
          "mapbox": {
           "style": "light"
          },
          "paper_bgcolor": "white",
          "plot_bgcolor": "#E5ECF6",
          "polar": {
           "angularaxis": {
            "gridcolor": "white",
            "linecolor": "white",
            "ticks": ""
           },
           "bgcolor": "#E5ECF6",
           "radialaxis": {
            "gridcolor": "white",
            "linecolor": "white",
            "ticks": ""
           }
          },
          "scene": {
           "xaxis": {
            "backgroundcolor": "#E5ECF6",
            "gridcolor": "white",
            "gridwidth": 2,
            "linecolor": "white",
            "showbackground": true,
            "ticks": "",
            "zerolinecolor": "white"
           },
           "yaxis": {
            "backgroundcolor": "#E5ECF6",
            "gridcolor": "white",
            "gridwidth": 2,
            "linecolor": "white",
            "showbackground": true,
            "ticks": "",
            "zerolinecolor": "white"
           },
           "zaxis": {
            "backgroundcolor": "#E5ECF6",
            "gridcolor": "white",
            "gridwidth": 2,
            "linecolor": "white",
            "showbackground": true,
            "ticks": "",
            "zerolinecolor": "white"
           }
          },
          "shapedefaults": {
           "line": {
            "color": "#2a3f5f"
           }
          },
          "ternary": {
           "aaxis": {
            "gridcolor": "white",
            "linecolor": "white",
            "ticks": ""
           },
           "baxis": {
            "gridcolor": "white",
            "linecolor": "white",
            "ticks": ""
           },
           "bgcolor": "#E5ECF6",
           "caxis": {
            "gridcolor": "white",
            "linecolor": "white",
            "ticks": ""
           }
          },
          "title": {
           "x": 0.05
          },
          "xaxis": {
           "automargin": true,
           "gridcolor": "white",
           "linecolor": "white",
           "ticks": "",
           "title": {
            "standoff": 15
           },
           "zerolinecolor": "white",
           "zerolinewidth": 2
          },
          "yaxis": {
           "automargin": true,
           "gridcolor": "white",
           "linecolor": "white",
           "ticks": "",
           "title": {
            "standoff": 15
           },
           "zerolinecolor": "white",
           "zerolinewidth": 2
          }
         }
        },
        "title": {
         "text": "RF: CV ROC AUC Surface (n_estimators × max_features)"
        },
        "width": 800
       }
      }
     },
     "metadata": {},
     "output_type": "display_data"
    }
   ],
   "source": [
    "import numpy as np, pandas as pd\n",
    "import plotly.graph_objects as go\n",
    "\n",
    "# 1) Build the grid from RandomizedSearchCV results (using ROC AUC)\n",
    "res = pd.DataFrame(rs_rf.cv_results_)[\n",
    "    [\"param_clf__n_estimators\", \"param_clf__max_features\", \"mean_test_roc_auc\"]\n",
    "].copy()\n",
    "\n",
    "# Clean types / labels\n",
    "res[\"n_estimators\"] = res[\"param_clf__n_estimators\"].astype(int)\n",
    "res[\"max_features_label\"] = res[\"param_clf__max_features\"].apply(lambda v: \"None\" if v is None else str(v))\n",
    "\n",
    "# Pivot to 2D matrix: rows = max_features, cols = n_estimators\n",
    "pivot = (res\n",
    "         .pivot_table(index=\"max_features_label\", columns=\"n_estimators\",\n",
    "                      values=\"mean_test_roc_auc\", aggfunc=\"mean\")\n",
    "         .sort_index(axis=0).sort_index(axis=1))\n",
    "\n",
    "# 2) Prepare x, y, z\n",
    "x = pivot.columns.to_numpy()                  # n_estimators (numeric)\n",
    "y_labels = pivot.index.to_list()              # categorical labels\n",
    "y = np.arange(len(y_labels))                  # numeric positions for 3D axis\n",
    "z = pivot.to_numpy(dtype=float)               # ROC AUC matrix (may contain NaNs)\n",
    "\n",
    "# Optional: fill small holes so the surface is continuous (keeps edges)\n",
    "z = (pd.DataFrame(z)\n",
    "       .interpolate(axis=1, limit_direction=\"both\")\n",
    "       .interpolate(axis=0, limit_direction=\"both\")\n",
    "       .to_numpy())\n",
    "\n",
    "# 3) Plot 3D surface\n",
    "fig = go.Figure(data=[go.Surface(z=z, x=x, y=y)])\n",
    "fig.update_layout(\n",
    "    title=\"RF: CV ROC AUC Surface (n_estimators × max_features)\",\n",
    "    scene=dict(\n",
    "        xaxis_title=\"n_estimators\",\n",
    "        yaxis_title=\"max_features\",\n",
    "        yaxis=dict(tickmode=\"array\", tickvals=y, ticktext=y_labels),\n",
    "        zaxis_title=\"CV ROC AUC\",\n",
    "    ),\n",
    "    width=800, height=800, margin=dict(l=65, r=50, b=65, t=90)\n",
    ")\n",
    "fig.show()\n"
   ]
  }
 ],
 "metadata": {
  "kernelspec": {
   "display_name": "yelp_env",
   "language": "python",
   "name": "python3"
  },
  "language_info": {
   "codemirror_mode": {
    "name": "ipython",
    "version": 3
   },
   "file_extension": ".py",
   "mimetype": "text/x-python",
   "name": "python",
   "nbconvert_exporter": "python",
   "pygments_lexer": "ipython3",
   "version": "3.11.13"
  }
 },
 "nbformat": 4,
 "nbformat_minor": 5
}
